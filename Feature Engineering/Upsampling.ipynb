{
 "cells": [
  {
   "cell_type": "code",
   "execution_count": 55,
   "id": "c69c3d6c-bab4-4c86-b369-9eadce766f63",
   "metadata": {},
   "outputs": [],
   "source": [
    "\n",
    "\n",
    "import numpy as np\n",
    "import pandas as pd \n",
    "np.random.seed(123)\n",
    "n_sample=1000\n",
    "class_0_ratio=0.9\n",
    "n_class_0=int(n_sample * class_0_ratio)\n",
    "n_class_1=n_sample - n_class_0\n",
    "\n",
    "\n"
   ]
  },
  {
   "cell_type": "code",
   "execution_count": 56,
   "id": "3d749636-1dd4-43a2-86b4-4137ce61032e",
   "metadata": {},
   "outputs": [
    {
     "name": "stdout",
     "output_type": "stream",
     "text": [
      "900\n"
     ]
    }
   ],
   "source": [
    "print(n_class_0)\n"
   ]
  },
  {
   "cell_type": "code",
   "execution_count": 57,
   "id": "3b432da3-aad4-4774-810d-3d474138ec91",
   "metadata": {},
   "outputs": [
    {
     "name": "stdout",
     "output_type": "stream",
     "text": [
      "100\n"
     ]
    }
   ],
   "source": [
    "print(n_class_1)\n"
   ]
  },
  {
   "cell_type": "code",
   "execution_count": 58,
   "id": "fbf5292b-bc51-480b-b1ab-0c71b89107df",
   "metadata": {},
   "outputs": [],
   "source": [
    "class0= pd.DataFrame({\n",
    "    'feature_1': np.random.normal(loc=0 , scale=1 , size=n_class_0),\n",
    "    'feature_2': np.random.normal(loc=0 , scale=1 , size=n_class_0),\n",
    "    'target' : [0] * n_class_0})"
   ]
  },
  {
   "cell_type": "code",
   "execution_count": 59,
   "id": "37d3bc07-2d0f-4fa4-8d28-be546ddb8110",
   "metadata": {},
   "outputs": [
    {
     "name": "stdout",
     "output_type": "stream",
     "text": [
      "     feature_1  feature_2  target\n",
      "0    -1.085631   0.551302       0\n",
      "1     0.997345   0.419589       0\n",
      "2     0.282978   1.815652       0\n",
      "3    -1.506295  -0.252750       0\n",
      "4    -0.578600  -0.292004       0\n",
      "..         ...        ...     ...\n",
      "895   0.238761  -0.003155       0\n",
      "896  -1.106386  -0.430660       0\n",
      "897   0.366732  -0.146416       0\n",
      "898   1.023906   1.160176       0\n",
      "899  -0.210056  -0.641512       0\n",
      "\n",
      "[900 rows x 3 columns]\n"
     ]
    }
   ],
   "source": [
    "print(class0)"
   ]
  },
  {
   "cell_type": "code",
   "execution_count": 60,
   "id": "86e5da88-c986-4b27-808e-5b38d2d31419",
   "metadata": {},
   "outputs": [],
   "source": [
    "class1= pd.DataFrame({\n",
    "    'feature_1' : np.random.normal( loc=0 , scale=1 , size=n_class_1),\n",
    "    'feature_2' : np.random.normal( loc=0 , scale=1 , size=n_class_1),\n",
    "    'target' : [1]* n_class_1})"
   ]
  },
  {
   "cell_type": "code",
   "execution_count": 61,
   "id": "d5498563-5db0-49be-aec5-84ae7eddafb0",
   "metadata": {},
   "outputs": [
    {
     "name": "stdout",
     "output_type": "stream",
     "text": [
      "    feature_1  feature_2  target\n",
      "0   -0.300232   0.139033       1\n",
      "1   -0.632261   0.025577       1\n",
      "2   -0.204317  -0.196443       1\n",
      "3    0.213696   1.312255       1\n",
      "4    1.033878   1.187417       1\n",
      "..        ...        ...     ...\n",
      "95  -0.623629   0.845701       1\n",
      "96   0.239810  -1.119923       1\n",
      "97  -0.868240  -0.359297       1\n",
      "98   0.902006  -1.609695       1\n",
      "99   0.697490   0.013570       1\n",
      "\n",
      "[100 rows x 3 columns]\n"
     ]
    }
   ],
   "source": [
    "print(class1)"
   ]
  },
  {
   "cell_type": "code",
   "execution_count": 62,
   "id": "57de2bc1-a493-4902-bf38-7794f2d0ace7",
   "metadata": {},
   "outputs": [],
   "source": [
    "df=pd.concat([class0 ,class1])"
   ]
  },
  {
   "cell_type": "code",
   "execution_count": 63,
   "id": "d4465211-3d29-4b27-98b8-4546372a22a7",
   "metadata": {},
   "outputs": [
    {
     "name": "stdout",
     "output_type": "stream",
     "text": [
      "    feature_1  feature_2  target\n",
      "0   -1.085631   0.551302       0\n",
      "1    0.997345   0.419589       0\n",
      "2    0.282978   1.815652       0\n",
      "3   -1.506295  -0.252750       0\n",
      "4   -0.578600  -0.292004       0\n",
      "..        ...        ...     ...\n",
      "95  -0.623629   0.845701       1\n",
      "96   0.239810  -1.119923       1\n",
      "97  -0.868240  -0.359297       1\n",
      "98   0.902006  -1.609695       1\n",
      "99   0.697490   0.013570       1\n",
      "\n",
      "[1000 rows x 3 columns]\n"
     ]
    }
   ],
   "source": [
    "print(df)"
   ]
  },
  {
   "cell_type": "code",
   "execution_count": 64,
   "id": "2e9873e8-895a-49a2-b1d4-5dfabfb38fb9",
   "metadata": {},
   "outputs": [
    {
     "data": {
      "text/html": [
       "<div>\n",
       "<style scoped>\n",
       "    .dataframe tbody tr th:only-of-type {\n",
       "        vertical-align: middle;\n",
       "    }\n",
       "\n",
       "    .dataframe tbody tr th {\n",
       "        vertical-align: top;\n",
       "    }\n",
       "\n",
       "    .dataframe thead th {\n",
       "        text-align: right;\n",
       "    }\n",
       "</style>\n",
       "<table border=\"1\" class=\"dataframe\">\n",
       "  <thead>\n",
       "    <tr style=\"text-align: right;\">\n",
       "      <th></th>\n",
       "      <th>feature_1</th>\n",
       "      <th>feature_2</th>\n",
       "      <th>target</th>\n",
       "    </tr>\n",
       "  </thead>\n",
       "  <tbody>\n",
       "    <tr>\n",
       "      <th>0</th>\n",
       "      <td>False</td>\n",
       "      <td>False</td>\n",
       "      <td>False</td>\n",
       "    </tr>\n",
       "    <tr>\n",
       "      <th>1</th>\n",
       "      <td>False</td>\n",
       "      <td>False</td>\n",
       "      <td>False</td>\n",
       "    </tr>\n",
       "    <tr>\n",
       "      <th>2</th>\n",
       "      <td>False</td>\n",
       "      <td>False</td>\n",
       "      <td>False</td>\n",
       "    </tr>\n",
       "    <tr>\n",
       "      <th>3</th>\n",
       "      <td>False</td>\n",
       "      <td>False</td>\n",
       "      <td>False</td>\n",
       "    </tr>\n",
       "    <tr>\n",
       "      <th>4</th>\n",
       "      <td>False</td>\n",
       "      <td>False</td>\n",
       "      <td>False</td>\n",
       "    </tr>\n",
       "    <tr>\n",
       "      <th>...</th>\n",
       "      <td>...</td>\n",
       "      <td>...</td>\n",
       "      <td>...</td>\n",
       "    </tr>\n",
       "    <tr>\n",
       "      <th>95</th>\n",
       "      <td>False</td>\n",
       "      <td>False</td>\n",
       "      <td>False</td>\n",
       "    </tr>\n",
       "    <tr>\n",
       "      <th>96</th>\n",
       "      <td>False</td>\n",
       "      <td>False</td>\n",
       "      <td>False</td>\n",
       "    </tr>\n",
       "    <tr>\n",
       "      <th>97</th>\n",
       "      <td>False</td>\n",
       "      <td>False</td>\n",
       "      <td>False</td>\n",
       "    </tr>\n",
       "    <tr>\n",
       "      <th>98</th>\n",
       "      <td>False</td>\n",
       "      <td>False</td>\n",
       "      <td>False</td>\n",
       "    </tr>\n",
       "    <tr>\n",
       "      <th>99</th>\n",
       "      <td>False</td>\n",
       "      <td>False</td>\n",
       "      <td>False</td>\n",
       "    </tr>\n",
       "  </tbody>\n",
       "</table>\n",
       "<p>1000 rows × 3 columns</p>\n",
       "</div>"
      ],
      "text/plain": [
       "    feature_1  feature_2  target\n",
       "0       False      False   False\n",
       "1       False      False   False\n",
       "2       False      False   False\n",
       "3       False      False   False\n",
       "4       False      False   False\n",
       "..        ...        ...     ...\n",
       "95      False      False   False\n",
       "96      False      False   False\n",
       "97      False      False   False\n",
       "98      False      False   False\n",
       "99      False      False   False\n",
       "\n",
       "[1000 rows x 3 columns]"
      ]
     },
     "execution_count": 64,
     "metadata": {},
     "output_type": "execute_result"
    }
   ],
   "source": [
    "df.isnull()"
   ]
  },
  {
   "cell_type": "code",
   "execution_count": 65,
   "id": "3da52a3c-d6ce-41f3-8d56-6300f4ecc2f2",
   "metadata": {},
   "outputs": [
    {
     "data": {
      "text/plain": [
       "feature_1    0\n",
       "feature_2    0\n",
       "target       0\n",
       "dtype: int64"
      ]
     },
     "execution_count": 65,
     "metadata": {},
     "output_type": "execute_result"
    }
   ],
   "source": [
    "df.isnull().sum()\n",
    "\n"
   ]
  },
  {
   "cell_type": "code",
   "execution_count": 66,
   "id": "cf983cbe-f665-4f1c-abd0-8c0e7aa6990a",
   "metadata": {},
   "outputs": [
    {
     "data": {
      "text/plain": [
       "0"
      ]
     },
     "execution_count": 66,
     "metadata": {},
     "output_type": "execute_result"
    }
   ],
   "source": [
    "df['feature_1'].isnull().sum()"
   ]
  },
  {
   "cell_type": "code",
   "execution_count": 67,
   "id": "dedd9be9-3c0e-47da-ae97-e7b30f7e0637",
   "metadata": {},
   "outputs": [
    {
     "name": "stdout",
     "output_type": "stream",
     "text": [
      "    feature_1  feature_2  target\n",
      "0   -0.300232   0.139033       1\n",
      "1   -0.632261   0.025577       1\n",
      "2   -0.204317  -0.196443       1\n",
      "3    0.213696   1.312255       1\n",
      "4    1.033878   1.187417       1\n",
      "..        ...        ...     ...\n",
      "95  -0.623629   0.845701       1\n",
      "96   0.239810  -1.119923       1\n",
      "97  -0.868240  -0.359297       1\n",
      "98   0.902006  -1.609695       1\n",
      "99   0.697490   0.013570       1\n",
      "\n",
      "[100 rows x 3 columns]\n"
     ]
    }
   ],
   "source": [
    "df_minority=df[df['target']==1]\n",
    "print(df_minority)"
   ]
  },
  {
   "cell_type": "code",
   "execution_count": 68,
   "id": "a0836e05-6e46-422d-8cf1-5436a5135b38",
   "metadata": {},
   "outputs": [],
   "source": [
    "df_majority=df[df['target']==0]"
   ]
  },
  {
   "cell_type": "code",
   "execution_count": 69,
   "id": "b95c9491-2269-4ce1-ba08-cce3231f2c7d",
   "metadata": {},
   "outputs": [
    {
     "name": "stdout",
     "output_type": "stream",
     "text": [
      "     feature_1  feature_2  target\n",
      "0    -1.085631   0.551302       0\n",
      "1     0.997345   0.419589       0\n",
      "2     0.282978   1.815652       0\n",
      "3    -1.506295  -0.252750       0\n",
      "4    -0.578600  -0.292004       0\n",
      "..         ...        ...     ...\n",
      "895   0.238761  -0.003155       0\n",
      "896  -1.106386  -0.430660       0\n",
      "897   0.366732  -0.146416       0\n",
      "898   1.023906   1.160176       0\n",
      "899  -0.210056  -0.641512       0\n",
      "\n",
      "[900 rows x 3 columns]\n"
     ]
    }
   ],
   "source": [
    "print(df_majority)"
   ]
  },
  {
   "cell_type": "code",
   "execution_count": 70,
   "id": "cf90af91-78ad-4dbe-8055-b9df0969a65c",
   "metadata": {},
   "outputs": [
    {
     "name": "stdout",
     "output_type": "stream",
     "text": [
      "Requirement already satisfied: scikit-learn in c:\\users\\acer\\appdata\\local\\programs\\python\\python39\\lib\\site-packages (1.6.1)\n",
      "Requirement already satisfied: numpy>=1.19.5 in c:\\users\\acer\\appdata\\local\\programs\\python\\python39\\lib\\site-packages (from scikit-learn) (1.26.4)\n",
      "Requirement already satisfied: scipy>=1.6.0 in c:\\users\\acer\\appdata\\local\\programs\\python\\python39\\lib\\site-packages (from scikit-learn) (1.13.1)\n",
      "Requirement already satisfied: joblib>=1.2.0 in c:\\users\\acer\\appdata\\local\\programs\\python\\python39\\lib\\site-packages (from scikit-learn) (1.4.2)\n",
      "Requirement already satisfied: threadpoolctl>=3.1.0 in c:\\users\\acer\\appdata\\local\\programs\\python\\python39\\lib\\site-packages (from scikit-learn) (3.5.0)\n",
      "Note: you may need to restart the kernel to use updated packages.\n"
     ]
    },
    {
     "name": "stderr",
     "output_type": "stream",
     "text": [
      "\n",
      "[notice] A new release of pip is available: 24.2 -> 25.0.1\n",
      "[notice] To update, run: python.exe -m pip install --upgrade pip\n"
     ]
    }
   ],
   "source": [
    "pip install scikit-learn"
   ]
  },
  {
   "cell_type": "code",
   "execution_count": 71,
   "id": "ffe9d3a9-e005-44ef-9d3b-a9703fc05e5f",
   "metadata": {},
   "outputs": [],
   "source": [
    "from sklearn.utils import resample"
   ]
  },
  {
   "cell_type": "code",
   "execution_count": 74,
   "id": "462534fe-032a-4d04-8a53-411e22e26649",
   "metadata": {},
   "outputs": [],
   "source": [
    "df_minority=resample(df_minority , replace=True , n_samples=len(df_majority) , random_state=42)"
   ]
  },
  {
   "cell_type": "code",
   "execution_count": 76,
   "id": "f9175dbe-3967-40a9-95e3-3a6367d7d82c",
   "metadata": {},
   "outputs": [
    {
     "name": "stdout",
     "output_type": "stream",
     "text": [
      "    feature_1  feature_2  target\n",
      "51  -0.874146  -0.156083       1\n",
      "92   0.196570  -0.602575       1\n",
      "14  -0.067830   0.998053       1\n",
      "71   0.272825   1.034197       1\n",
      "60   0.870056  -0.449515       1\n",
      "..        ...        ...     ...\n",
      "52  -0.811098   0.189189       1\n",
      "65   1.919526  -0.019459       1\n",
      "76   0.810326   1.604614       1\n",
      "42   1.621531   0.168229       1\n",
      "74  -0.839113   0.489203       1\n",
      "\n",
      "[900 rows x 3 columns]\n"
     ]
    }
   ],
   "source": [
    "print(df_minority)"
   ]
  },
  {
   "cell_type": "code",
   "execution_count": null,
   "id": "00a08515-26c8-4a8d-ba00-5c6074fc842b",
   "metadata": {},
   "outputs": [],
   "source": []
  }
 ],
 "metadata": {
  "kernelspec": {
   "display_name": "Python 3 (ipykernel)",
   "language": "python",
   "name": "python3"
  },
  "language_info": {
   "codemirror_mode": {
    "name": "ipython",
    "version": 3
   },
   "file_extension": ".py",
   "mimetype": "text/x-python",
   "name": "python",
   "nbconvert_exporter": "python",
   "pygments_lexer": "ipython3",
   "version": "3.9.0"
  }
 },
 "nbformat": 4,
 "nbformat_minor": 5
}
