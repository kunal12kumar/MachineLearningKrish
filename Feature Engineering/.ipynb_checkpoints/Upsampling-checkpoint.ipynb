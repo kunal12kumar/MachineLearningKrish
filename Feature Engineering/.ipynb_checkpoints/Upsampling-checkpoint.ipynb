{
 "cells": [
  {
   "cell_type": "code",
   "execution_count": 3,
   "id": "c69c3d6c-bab4-4c86-b369-9eadce766f63",
   "metadata": {},
   "outputs": [],
   "source": [
    "import numpy as np\n",
    "import pandas as pd \n",
    "np.random.seed(123)\n",
    "n_sample=1000\n",
    "class_0_ratio=0.9\n",
    "n_class_0=int(n_sample * class_0_ratio)\n",
    "n_class_1=n_sample - n_class_0"
   ]
  },
  {
   "cell_type": "code",
   "execution_count": 4,
   "id": "3d749636-1dd4-43a2-86b4-4137ce61032e",
   "metadata": {},
   "outputs": [
    {
     "name": "stdout",
     "output_type": "stream",
     "text": [
      "900\n"
     ]
    }
   ],
   "source": [
    "print(n_class_0)\n"
   ]
  },
  {
   "cell_type": "code",
   "execution_count": 5,
   "id": "3b432da3-aad4-4774-810d-3d474138ec91",
   "metadata": {},
   "outputs": [
    {
     "name": "stdout",
     "output_type": "stream",
     "text": [
      "100\n"
     ]
    }
   ],
   "source": [
    "print(n_class_1)\n"
   ]
  },
  {
   "cell_type": "code",
   "execution_count": 8,
   "id": "fbf5292b-bc51-480b-b1ab-0c71b89107df",
   "metadata": {},
   "outputs": [],
   "source": [
    "class0= pd.DataFrame({\n",
    "    'feature_1': np.random.normal(loc=0 , scale=1 , size=n_class_0),\n",
    "    'feature_2': np.random.normal(loc=0 , scale=1 , size=n_class_0),\n",
    "    'target' : [0] * n_class_0})"
   ]
  },
  {
   "cell_type": "code",
   "execution_count": 9,
   "id": "37d3bc07-2d0f-4fa4-8d28-be546ddb8110",
   "metadata": {},
   "outputs": [
    {
     "name": "stdout",
     "output_type": "stream",
     "text": [
      "     feature_1  feature_2  target\n",
      "0    -1.085631   0.551302       0\n",
      "1     0.997345   0.419589       0\n",
      "2     0.282978   1.815652       0\n",
      "3    -1.506295  -0.252750       0\n",
      "4    -0.578600  -0.292004       0\n",
      "..         ...        ...     ...\n",
      "895   0.238761  -0.003155       0\n",
      "896  -1.106386  -0.430660       0\n",
      "897   0.366732  -0.146416       0\n",
      "898   1.023906   1.160176       0\n",
      "899  -0.210056  -0.641512       0\n",
      "\n",
      "[900 rows x 3 columns]\n"
     ]
    }
   ],
   "source": [
    "print(class0)"
   ]
  },
  {
   "cell_type": "code",
   "execution_count": 10,
   "id": "86e5da88-c986-4b27-808e-5b38d2d31419",
   "metadata": {},
   "outputs": [],
   "source": [
    "class1= pd.DataFrame({\n",
    "    'feature_1' : np.random.normal( loc=0 , scale=1 , size=n_class_1),\n",
    "    'feature_2' : np.random.normal( loc=0 , scale=1 , size=n_class_1),\n",
    "    'target' : [1]* n_class_1})"
   ]
  },
  {
   "cell_type": "code",
   "execution_count": 11,
   "id": "d5498563-5db0-49be-aec5-84ae7eddafb0",
   "metadata": {},
   "outputs": [
    {
     "name": "stdout",
     "output_type": "stream",
     "text": [
      "    feature_1  feature_2  target\n",
      "0   -0.300232   0.139033       1\n",
      "1   -0.632261   0.025577       1\n",
      "2   -0.204317  -0.196443       1\n",
      "3    0.213696   1.312255       1\n",
      "4    1.033878   1.187417       1\n",
      "..        ...        ...     ...\n",
      "95  -0.623629   0.845701       1\n",
      "96   0.239810  -1.119923       1\n",
      "97  -0.868240  -0.359297       1\n",
      "98   0.902006  -1.609695       1\n",
      "99   0.697490   0.013570       1\n",
      "\n",
      "[100 rows x 3 columns]\n"
     ]
    }
   ],
   "source": [
    "print(class1)"
   ]
  },
  {
   "cell_type": "code",
   "execution_count": 35,
   "id": "57de2bc1-a493-4902-bf38-7794f2d0ace7",
   "metadata": {},
   "outputs": [],
   "source": [
    "df=pd.concat([class0 ,class1])"
   ]
  },
  {
   "cell_type": "code",
   "execution_count": 36,
   "id": "d4465211-3d29-4b27-98b8-4546372a22a7",
   "metadata": {},
   "outputs": [
    {
     "name": "stdout",
     "output_type": "stream",
     "text": [
      "    feature_1  feature_2  target\n",
      "0   -1.085631   0.551302       0\n",
      "1    0.997345   0.419589       0\n",
      "2    0.282978   1.815652       0\n",
      "3   -1.506295  -0.252750       0\n",
      "4   -0.578600  -0.292004       0\n",
      "..        ...        ...     ...\n",
      "95  -0.623629   0.845701       1\n",
      "96   0.239810  -1.119923       1\n",
      "97  -0.868240  -0.359297       1\n",
      "98   0.902006  -1.609695       1\n",
      "99   0.697490   0.013570       1\n",
      "\n",
      "[1000 rows x 3 columns]\n"
     ]
    }
   ],
   "source": [
    "print(df)"
   ]
  },
  {
   "cell_type": "code",
   "execution_count": 37,
   "id": "2e9873e8-895a-49a2-b1d4-5dfabfb38fb9",
   "metadata": {},
   "outputs": [
    {
     "data": {
      "text/html": [
       "<div>\n",
       "<style scoped>\n",
       "    .dataframe tbody tr th:only-of-type {\n",
       "        vertical-align: middle;\n",
       "    }\n",
       "\n",
       "    .dataframe tbody tr th {\n",
       "        vertical-align: top;\n",
       "    }\n",
       "\n",
       "    .dataframe thead th {\n",
       "        text-align: right;\n",
       "    }\n",
       "</style>\n",
       "<table border=\"1\" class=\"dataframe\">\n",
       "  <thead>\n",
       "    <tr style=\"text-align: right;\">\n",
       "      <th></th>\n",
       "      <th>feature_1</th>\n",
       "      <th>feature_2</th>\n",
       "      <th>target</th>\n",
       "    </tr>\n",
       "  </thead>\n",
       "  <tbody>\n",
       "    <tr>\n",
       "      <th>0</th>\n",
       "      <td>False</td>\n",
       "      <td>False</td>\n",
       "      <td>False</td>\n",
       "    </tr>\n",
       "    <tr>\n",
       "      <th>1</th>\n",
       "      <td>False</td>\n",
       "      <td>False</td>\n",
       "      <td>False</td>\n",
       "    </tr>\n",
       "    <tr>\n",
       "      <th>2</th>\n",
       "      <td>False</td>\n",
       "      <td>False</td>\n",
       "      <td>False</td>\n",
       "    </tr>\n",
       "    <tr>\n",
       "      <th>3</th>\n",
       "      <td>False</td>\n",
       "      <td>False</td>\n",
       "      <td>False</td>\n",
       "    </tr>\n",
       "    <tr>\n",
       "      <th>4</th>\n",
       "      <td>False</td>\n",
       "      <td>False</td>\n",
       "      <td>False</td>\n",
       "    </tr>\n",
       "    <tr>\n",
       "      <th>...</th>\n",
       "      <td>...</td>\n",
       "      <td>...</td>\n",
       "      <td>...</td>\n",
       "    </tr>\n",
       "    <tr>\n",
       "      <th>95</th>\n",
       "      <td>False</td>\n",
       "      <td>False</td>\n",
       "      <td>False</td>\n",
       "    </tr>\n",
       "    <tr>\n",
       "      <th>96</th>\n",
       "      <td>False</td>\n",
       "      <td>False</td>\n",
       "      <td>False</td>\n",
       "    </tr>\n",
       "    <tr>\n",
       "      <th>97</th>\n",
       "      <td>False</td>\n",
       "      <td>False</td>\n",
       "      <td>False</td>\n",
       "    </tr>\n",
       "    <tr>\n",
       "      <th>98</th>\n",
       "      <td>False</td>\n",
       "      <td>False</td>\n",
       "      <td>False</td>\n",
       "    </tr>\n",
       "    <tr>\n",
       "      <th>99</th>\n",
       "      <td>False</td>\n",
       "      <td>False</td>\n",
       "      <td>False</td>\n",
       "    </tr>\n",
       "  </tbody>\n",
       "</table>\n",
       "<p>1000 rows × 3 columns</p>\n",
       "</div>"
      ],
      "text/plain": [
       "    feature_1  feature_2  target\n",
       "0       False      False   False\n",
       "1       False      False   False\n",
       "2       False      False   False\n",
       "3       False      False   False\n",
       "4       False      False   False\n",
       "..        ...        ...     ...\n",
       "95      False      False   False\n",
       "96      False      False   False\n",
       "97      False      False   False\n",
       "98      False      False   False\n",
       "99      False      False   False\n",
       "\n",
       "[1000 rows x 3 columns]"
      ]
     },
     "execution_count": 37,
     "metadata": {},
     "output_type": "execute_result"
    }
   ],
   "source": [
    "df.isnull()"
   ]
  },
  {
   "cell_type": "code",
   "execution_count": 38,
   "id": "3da52a3c-d6ce-41f3-8d56-6300f4ecc2f2",
   "metadata": {},
   "outputs": [
    {
     "data": {
      "text/plain": [
       "feature_1    0\n",
       "feature_2    0\n",
       "target       0\n",
       "dtype: int64"
      ]
     },
     "execution_count": 38,
     "metadata": {},
     "output_type": "execute_result"
    }
   ],
   "source": [
    "df.isnull().sum()\n",
    "\n"
   ]
  },
  {
   "cell_type": "code",
   "execution_count": 27,
   "id": "cf983cbe-f665-4f1c-abd0-8c0e7aa6990a",
   "metadata": {},
   "outputs": [
    {
     "ename": "TypeError",
     "evalue": "isna() missing 1 required positional argument: 'obj'",
     "output_type": "error",
     "traceback": [
      "\u001b[1;31m---------------------------------------------------------------------------\u001b[0m",
      "\u001b[1;31mTypeError\u001b[0m                                 Traceback (most recent call last)",
      "Cell \u001b[1;32mIn[27], line 1\u001b[0m\n\u001b[1;32m----> 1\u001b[0m \u001b[43mpd\u001b[49m\u001b[38;5;241;43m.\u001b[39;49m\u001b[43misnull\u001b[49m\u001b[43m(\u001b[49m\u001b[43m)\u001b[49m\u001b[38;5;241m.\u001b[39msum()\n",
      "\u001b[1;31mTypeError\u001b[0m: isna() missing 1 required positional argument: 'obj'"
     ]
    }
   ],
   "source": [
    "pd.isnull().sum()"
   ]
  },
  {
   "cell_type": "code",
   "execution_count": null,
   "id": "dedd9be9-3c0e-47da-ae97-e7b30f7e0637",
   "metadata": {},
   "outputs": [],
   "source": []
  }
 ],
 "metadata": {
  "kernelspec": {
   "display_name": "Python 3 (ipykernel)",
   "language": "python",
   "name": "python3"
  },
  "language_info": {
   "codemirror_mode": {
    "name": "ipython",
    "version": 3
   },
   "file_extension": ".py",
   "mimetype": "text/x-python",
   "name": "python",
   "nbconvert_exporter": "python",
   "pygments_lexer": "ipython3",
   "version": "3.9.0"
  }
 },
 "nbformat": 4,
 "nbformat_minor": 5
}
