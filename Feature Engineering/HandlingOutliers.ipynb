{
 "cells": [
  {
   "cell_type": "markdown",
   "id": "840ffce5-0392-486a-b6a0-b6771f2e9283",
   "metadata": {},
   "source": [
    "# In this we learn to handel Outliers (it is those data which are too much smaller or greater than usual value)"
   ]
  },
  {
   "cell_type": "code",
   "execution_count": 1,
   "id": "217b961f-d3a6-4f98-80d8-357acfcbd3a7",
   "metadata": {},
   "outputs": [],
   "source": [
    "# we did it by 5 number summary "
   ]
  },
  {
   "cell_type": "code",
   "execution_count": 3,
   "id": "47587b3a-6182-4178-a5ac-4690c56dac51",
   "metadata": {},
   "outputs": [],
   "source": [
    "# min , 25% , 50%  , 75% , max\n",
    "# here 25% =q1 and 75% is q3 also both is known as percentile\n",
    "# here we will use boxplot to show outliers in graph "
   ]
  },
  {
   "cell_type": "code",
   "execution_count": 28,
   "id": "e0c881a2-ff63-4613-a1c7-cfb92ae3a0ee",
   "metadata": {},
   "outputs": [],
   "source": [
    "# lets create a array \n",
    "import numpy as np\n",
    "import matplotlib.pyplot as plt"
   ]
  },
  {
   "cell_type": "code",
   "execution_count": 29,
   "id": "33de72bb-af7a-4076-aaa1-cb9ad4ef4882",
   "metadata": {},
   "outputs": [],
   "source": [
    "array=[-50,30, 34,56 ,67 ,56, 70 ,34 ,90, 86,45,26 ,89, 56, 89 ,29, 93 ,180 ,200 ,240,500]"
   ]
  },
  {
   "cell_type": "code",
   "execution_count": 30,
   "id": "b07afbc9-547f-436a-8282-c92740c1c838",
   "metadata": {},
   "outputs": [],
   "source": [
    "[minimum , q1 , median  , q2  , maximum ]=np.quantile(array , [0, 0.25 ,0.5 , 0.75 , 1.0])"
   ]
  },
  {
   "cell_type": "code",
   "execution_count": 31,
   "id": "c18bb1ff-6f8a-459e-88f5-81d8b1d51b8d",
   "metadata": {},
   "outputs": [
    {
     "name": "stdout",
     "output_type": "stream",
     "text": [
      "26.0 34.0 56.0 86.75 93.0\n"
     ]
    }
   ],
   "source": [
    "print(minimum, q1 , median , q2 , maximum)"
   ]
  },
  {
   "cell_type": "code",
   "execution_count": 32,
   "id": "1c1e1bca-0cbc-43cd-a09f-8573fb6ad972",
   "metadata": {},
   "outputs": [],
   "source": [
    "iqr= q2-q1"
   ]
  },
  {
   "cell_type": "code",
   "execution_count": 33,
   "id": "30ccf2cb-311f-4515-ab9e-364ae4ce75e2",
   "metadata": {},
   "outputs": [
    {
     "name": "stdout",
     "output_type": "stream",
     "text": [
      "52.75\n"
     ]
    }
   ],
   "source": [
    "print(iqr)"
   ]
  },
  {
   "cell_type": "code",
   "execution_count": 34,
   "id": "52f95eef-cb09-4da3-ac78-d864513b5f04",
   "metadata": {},
   "outputs": [
    {
     "name": "stdout",
     "output_type": "stream",
     "text": [
      "-45.125 165.875\n"
     ]
    }
   ],
   "source": [
    "# now calculate lowerfence and higherfence\n",
    "lowerfence=q1- 1.5*(iqr)\n",
    "higherfence=q2 + 1.5*(iqr)\n",
    "print(lowerfence, higherfence)"
   ]
  },
  {
   "cell_type": "code",
   "execution_count": 35,
   "id": "e89f402e-d59d-4494-b348-509668c5ecfd",
   "metadata": {},
   "outputs": [
    {
     "data": {
      "text/plain": [
       "{'whiskers': [<matplotlib.lines.Line2D at 0x26bb9e6df10>,\n",
       "  <matplotlib.lines.Line2D at 0x26bb9e8b1f0>],\n",
       " 'caps': [<matplotlib.lines.Line2D at 0x26bb9e8b490>,\n",
       "  <matplotlib.lines.Line2D at 0x26bb9e8b730>],\n",
       " 'boxes': [<matplotlib.lines.Line2D at 0x26bb9e6dd00>],\n",
       " 'medians': [<matplotlib.lines.Line2D at 0x26bb9e8b9d0>],\n",
       " 'fliers': [<matplotlib.lines.Line2D at 0x26bb9e8bc70>],\n",
       " 'means': []}"
      ]
     },
     "execution_count": 35,
     "metadata": {},
     "output_type": "execute_result"
    },
    {
     "data": {
      "image/png": "[encoded data removed]",
      "text/plain": [
       "<Figure size 640x480 with 1 Axes>"
      ]
     },
     "metadata": {},
     "output_type": "display_data"
    }
   ],
   "source": [
    "# now plot boxplot graph\n",
    "plt.boxplot(array)"
   ]
  },
  {
   "cell_type": "code",
   "execution_count": null,
   "id": "8fce2ac6-d7bb-4743-89ae-74a21ebd7374",
   "metadata": {},
   "outputs": [],
   "source": []
  }
 ],
 "metadata": {
  "kernelspec": {
   "display_name": "Python 3 (ipykernel)",
   "language": "python",
   "name": "python3"
  },
  "language_info": {
   "codemirror_mode": {
    "name": "ipython",
    "version": 3
   },
   "file_extension": ".py",
   "mimetype": "text/x-python",
   "name": "python",
   "nbconvert_exporter": "python",
   "pygments_lexer": "ipython3",
   "version": "3.9.0"
  }
 },
 "nbformat": 4,
 "nbformat_minor": 5
}
