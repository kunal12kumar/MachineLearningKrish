{
 "cells": [
  {
   "cell_type": "code",
   "execution_count": 58,
   "id": "a0d464dd-1a2c-42cd-b4fa-d3afa3446f5a",
   "metadata": {},
   "outputs": [],
   "source": [
    "import numpy as np\n",
    "import pandas as pd\n",
    "import matplotlib.pyplot as plt "
   ]
  },
  {
   "cell_type": "code",
   "execution_count": 59,
   "id": "760eea04-a7e1-4565-8d43-92b531c2dd53",
   "metadata": {},
   "outputs": [],
   "source": [
    "df=pd.read_csv('encoding_dataset.csv')"
   ]
  },
  {
   "cell_type": "code",
   "execution_count": 60,
   "id": "b70ccd02-78c3-4d05-aca2-faa002df8f24",
   "metadata": {},
   "outputs": [
    {
     "data": {
      "text/plain": [
       "Customer_ID         0\n",
       "Customer_Gender     0\n",
       "Payment_Method      0\n",
       "Education_Level     0\n",
       "Customer_Loyalty    0\n",
       "Purchase_Amount     0\n",
       "dtype: int64"
      ]
     },
     "execution_count": 60,
     "metadata": {},
     "output_type": "execute_result"
    }
   ],
   "source": [
    "df.isnull().sum()"
   ]
  },
  {
   "cell_type": "markdown",
   "id": "17d7315d-e9d5-4d76-ae41-a5168b808de7",
   "metadata": {},
   "source": [
    "# In this we are going to use encoding technique to give compare the value of the sstring value because machine does not know how to distinguish bewtween the no. then only know numerical value"
   ]
  },
  {
   "cell_type": "markdown",
   "id": "bd77bbe1-3ee2-420a-aefa-70bd667dcbf0",
   "metadata": {},
   "source": [
    "1. Encoding (in this we will  give value eq to 1 to that string and then 0 to other )"
   ]
  },
  {
   "cell_type": "code",
   "execution_count": 61,
   "id": "d9314c22-202d-41f3-a3e8-053166fc5746",
   "metadata": {},
   "outputs": [
    {
     "data": {
      "text/html": [
       "<div>\n",
       "<style scoped>\n",
       "    .dataframe tbody tr th:only-of-type {\n",
       "        vertical-align: middle;\n",
       "    }\n",
       "\n",
       "    .dataframe tbody tr th {\n",
       "        vertical-align: top;\n",
       "    }\n",
       "\n",
       "    .dataframe thead th {\n",
       "        text-align: right;\n",
       "    }\n",
       "</style>\n",
       "<table border=\"1\" class=\"dataframe\">\n",
       "  <thead>\n",
       "    <tr style=\"text-align: right;\">\n",
       "      <th></th>\n",
       "      <th>Customer_ID</th>\n",
       "      <th>Customer_Gender</th>\n",
       "      <th>Payment_Method</th>\n",
       "      <th>Education_Level</th>\n",
       "      <th>Customer_Loyalty</th>\n",
       "      <th>Purchase_Amount</th>\n",
       "    </tr>\n",
       "  </thead>\n",
       "  <tbody>\n",
       "    <tr>\n",
       "      <th>0</th>\n",
       "      <td>C5374</td>\n",
       "      <td>Other</td>\n",
       "      <td>Debit Card</td>\n",
       "      <td>Bachelor’s</td>\n",
       "      <td>Silver</td>\n",
       "      <td>3573.85</td>\n",
       "    </tr>\n",
       "    <tr>\n",
       "      <th>1</th>\n",
       "      <td>C3280</td>\n",
       "      <td>Male</td>\n",
       "      <td>Cash</td>\n",
       "      <td>PhD</td>\n",
       "      <td>Bronze</td>\n",
       "      <td>4279.67</td>\n",
       "    </tr>\n",
       "    <tr>\n",
       "      <th>2</th>\n",
       "      <td>C3380</td>\n",
       "      <td>Female</td>\n",
       "      <td>Debit Card</td>\n",
       "      <td>High School</td>\n",
       "      <td>Silver</td>\n",
       "      <td>904.41</td>\n",
       "    </tr>\n",
       "    <tr>\n",
       "      <th>3</th>\n",
       "      <td>C4447</td>\n",
       "      <td>Female</td>\n",
       "      <td>UPI</td>\n",
       "      <td>Master’s</td>\n",
       "      <td>Silver</td>\n",
       "      <td>824.00</td>\n",
       "    </tr>\n",
       "    <tr>\n",
       "      <th>4</th>\n",
       "      <td>C2170</td>\n",
       "      <td>Female</td>\n",
       "      <td>Debit Card</td>\n",
       "      <td>Master’s</td>\n",
       "      <td>Gold</td>\n",
       "      <td>310.38</td>\n",
       "    </tr>\n",
       "    <tr>\n",
       "      <th>5</th>\n",
       "      <td>C1174</td>\n",
       "      <td>Other</td>\n",
       "      <td>UPI</td>\n",
       "      <td>Master’s</td>\n",
       "      <td>Silver</td>\n",
       "      <td>3668.02</td>\n",
       "    </tr>\n",
       "    <tr>\n",
       "      <th>6</th>\n",
       "      <td>C5607</td>\n",
       "      <td>Other</td>\n",
       "      <td>UPI</td>\n",
       "      <td>Bachelor’s</td>\n",
       "      <td>Gold</td>\n",
       "      <td>3112.43</td>\n",
       "    </tr>\n",
       "    <tr>\n",
       "      <th>7</th>\n",
       "      <td>C5352</td>\n",
       "      <td>Male</td>\n",
       "      <td>Cash</td>\n",
       "      <td>PhD</td>\n",
       "      <td>Bronze</td>\n",
       "      <td>1478.35</td>\n",
       "    </tr>\n",
       "    <tr>\n",
       "      <th>8</th>\n",
       "      <td>C9108</td>\n",
       "      <td>Other</td>\n",
       "      <td>Cash</td>\n",
       "      <td>PhD</td>\n",
       "      <td>Silver</td>\n",
       "      <td>2164.13</td>\n",
       "    </tr>\n",
       "    <tr>\n",
       "      <th>9</th>\n",
       "      <td>C8760</td>\n",
       "      <td>Male</td>\n",
       "      <td>Cash</td>\n",
       "      <td>PhD</td>\n",
       "      <td>Bronze</td>\n",
       "      <td>1745.86</td>\n",
       "    </tr>\n",
       "  </tbody>\n",
       "</table>\n",
       "</div>"
      ],
      "text/plain": [
       "  Customer_ID Customer_Gender Payment_Method Education_Level Customer_Loyalty  \\\n",
       "0       C5374           Other     Debit Card      Bachelor’s           Silver   \n",
       "1       C3280            Male           Cash             PhD           Bronze   \n",
       "2       C3380          Female     Debit Card     High School           Silver   \n",
       "3       C4447          Female            UPI        Master’s           Silver   \n",
       "4       C2170          Female     Debit Card        Master’s             Gold   \n",
       "5       C1174           Other            UPI        Master’s           Silver   \n",
       "6       C5607           Other            UPI      Bachelor’s             Gold   \n",
       "7       C5352            Male           Cash             PhD           Bronze   \n",
       "8       C9108           Other           Cash             PhD           Silver   \n",
       "9       C8760            Male           Cash             PhD           Bronze   \n",
       "\n",
       "   Purchase_Amount  \n",
       "0          3573.85  \n",
       "1          4279.67  \n",
       "2           904.41  \n",
       "3           824.00  \n",
       "4           310.38  \n",
       "5          3668.02  \n",
       "6          3112.43  \n",
       "7          1478.35  \n",
       "8          2164.13  \n",
       "9          1745.86  "
      ]
     },
     "execution_count": 61,
     "metadata": {},
     "output_type": "execute_result"
    }
   ],
   "source": [
    "df.head(10)"
   ]
  },
  {
   "cell_type": "code",
   "execution_count": 62,
   "id": "56c527a0-b9a5-49cc-8a4a-2c757b2ae312",
   "metadata": {},
   "outputs": [],
   "source": [
    "# first works on customer_gender \n",
    "# for that we use preprocessing library and its OneHotEnocoder for  doing this  form sklearn "
   ]
  },
  {
   "cell_type": "code",
   "execution_count": 63,
   "id": "59b5f17a-0d89-46ad-bfef-1a6727f101f7",
   "metadata": {},
   "outputs": [],
   "source": [
    "from sklearn.preprocessing import OneHotEncoder"
   ]
  },
  {
   "cell_type": "code",
   "execution_count": 64,
   "id": "92084f4e-5330-4cc0-9764-78655f21e943",
   "metadata": {},
   "outputs": [],
   "source": [
    "Encoder=OneHotEncoder()\n",
    "encod=Encoder.fit_transform(df[['Customer_Gender']]).toarray()"
   ]
  },
  {
   "cell_type": "code",
   "execution_count": 65,
   "id": "f8150515-c9f7-4232-8e71-c0ae6bdb2f69",
   "metadata": {},
   "outputs": [
    {
     "data": {
      "text/plain": [
       "array([[0., 0., 1.],\n",
       "       [0., 1., 0.],\n",
       "       [1., 0., 0.],\n",
       "       [1., 0., 0.],\n",
       "       [1., 0., 0.],\n",
       "       [0., 0., 1.],\n",
       "       [0., 0., 1.],\n",
       "       [0., 1., 0.],\n",
       "       [0., 0., 1.],\n",
       "       [0., 1., 0.],\n",
       "       [0., 1., 0.],\n",
       "       [0., 1., 0.],\n",
       "       [0., 1., 0.],\n",
       "       [0., 1., 0.],\n",
       "       [0., 0., 1.],\n",
       "       [0., 1., 0.],\n",
       "       [0., 0., 1.],\n",
       "       [0., 0., 1.],\n",
       "       [1., 0., 0.],\n",
       "       [1., 0., 0.],\n",
       "       [1., 0., 0.],\n",
       "       [0., 1., 0.],\n",
       "       [0., 0., 1.],\n",
       "       [1., 0., 0.],\n",
       "       [1., 0., 0.],\n",
       "       [1., 0., 0.],\n",
       "       [0., 1., 0.],\n",
       "       [1., 0., 0.],\n",
       "       [1., 0., 0.],\n",
       "       [0., 0., 1.],\n",
       "       [1., 0., 0.],\n",
       "       [0., 0., 1.],\n",
       "       [1., 0., 0.],\n",
       "       [1., 0., 0.],\n",
       "       [0., 1., 0.],\n",
       "       [1., 0., 0.],\n",
       "       [1., 0., 0.],\n",
       "       [0., 0., 1.],\n",
       "       [1., 0., 0.],\n",
       "       [0., 0., 1.],\n",
       "       [0., 0., 1.],\n",
       "       [0., 0., 1.],\n",
       "       [0., 0., 1.],\n",
       "       [0., 0., 1.],\n",
       "       [1., 0., 0.],\n",
       "       [0., 0., 1.],\n",
       "       [1., 0., 0.],\n",
       "       [0., 1., 0.],\n",
       "       [0., 0., 1.],\n",
       "       [0., 1., 0.],\n",
       "       [0., 0., 1.],\n",
       "       [0., 1., 0.],\n",
       "       [1., 0., 0.],\n",
       "       [0., 0., 1.],\n",
       "       [0., 0., 1.],\n",
       "       [1., 0., 0.],\n",
       "       [1., 0., 0.],\n",
       "       [0., 1., 0.],\n",
       "       [1., 0., 0.],\n",
       "       [0., 0., 1.],\n",
       "       [1., 0., 0.],\n",
       "       [0., 1., 0.],\n",
       "       [1., 0., 0.],\n",
       "       [1., 0., 0.],\n",
       "       [0., 1., 0.],\n",
       "       [0., 1., 0.],\n",
       "       [0., 1., 0.],\n",
       "       [1., 0., 0.],\n",
       "       [0., 0., 1.],\n",
       "       [1., 0., 0.],\n",
       "       [1., 0., 0.],\n",
       "       [0., 1., 0.],\n",
       "       [1., 0., 0.],\n",
       "       [0., 1., 0.],\n",
       "       [0., 0., 1.],\n",
       "       [0., 0., 1.],\n",
       "       [0., 1., 0.],\n",
       "       [0., 0., 1.],\n",
       "       [0., 0., 1.],\n",
       "       [1., 0., 0.],\n",
       "       [0., 0., 1.],\n",
       "       [0., 1., 0.],\n",
       "       [0., 1., 0.],\n",
       "       [0., 0., 1.],\n",
       "       [1., 0., 0.],\n",
       "       [0., 0., 1.],\n",
       "       [0., 0., 1.],\n",
       "       [0., 1., 0.],\n",
       "       [1., 0., 0.],\n",
       "       [0., 0., 1.],\n",
       "       [0., 1., 0.],\n",
       "       [0., 1., 0.],\n",
       "       [0., 0., 1.],\n",
       "       [0., 1., 0.],\n",
       "       [1., 0., 0.],\n",
       "       [0., 1., 0.],\n",
       "       [1., 0., 0.],\n",
       "       [0., 1., 0.],\n",
       "       [0., 1., 0.],\n",
       "       [0., 1., 0.]])"
      ]
     },
     "execution_count": 65,
     "metadata": {},
     "output_type": "execute_result"
    }
   ],
   "source": [
    "encod"
   ]
  },
  {
   "cell_type": "markdown",
   "id": "8d0cfe76-96aa-4b56-8f57-bd3331c74480",
   "metadata": {},
   "source": [
    "you can see here taht here female=0 , male=1 and other=2 assigned as per the aplphabetical order "
   ]
  },
  {
   "cell_type": "code",
   "execution_count": 66,
   "id": "ba0117dd-112e-4b4c-8b83-47910c0302dd",
   "metadata": {},
   "outputs": [
    {
     "data": {
      "text/html": [
       "<div>\n",
       "<style scoped>\n",
       "    .dataframe tbody tr th:only-of-type {\n",
       "        vertical-align: middle;\n",
       "    }\n",
       "\n",
       "    .dataframe tbody tr th {\n",
       "        vertical-align: top;\n",
       "    }\n",
       "\n",
       "    .dataframe thead th {\n",
       "        text-align: right;\n",
       "    }\n",
       "</style>\n",
       "<table border=\"1\" class=\"dataframe\">\n",
       "  <thead>\n",
       "    <tr style=\"text-align: right;\">\n",
       "      <th></th>\n",
       "      <th>Customer_Gender</th>\n",
       "    </tr>\n",
       "  </thead>\n",
       "  <tbody>\n",
       "    <tr>\n",
       "      <th>0</th>\n",
       "      <td>Other</td>\n",
       "    </tr>\n",
       "    <tr>\n",
       "      <th>1</th>\n",
       "      <td>Male</td>\n",
       "    </tr>\n",
       "    <tr>\n",
       "      <th>2</th>\n",
       "      <td>Female</td>\n",
       "    </tr>\n",
       "    <tr>\n",
       "      <th>3</th>\n",
       "      <td>Female</td>\n",
       "    </tr>\n",
       "    <tr>\n",
       "      <th>4</th>\n",
       "      <td>Female</td>\n",
       "    </tr>\n",
       "    <tr>\n",
       "      <th>...</th>\n",
       "      <td>...</td>\n",
       "    </tr>\n",
       "    <tr>\n",
       "      <th>95</th>\n",
       "      <td>Male</td>\n",
       "    </tr>\n",
       "    <tr>\n",
       "      <th>96</th>\n",
       "      <td>Female</td>\n",
       "    </tr>\n",
       "    <tr>\n",
       "      <th>97</th>\n",
       "      <td>Male</td>\n",
       "    </tr>\n",
       "    <tr>\n",
       "      <th>98</th>\n",
       "      <td>Male</td>\n",
       "    </tr>\n",
       "    <tr>\n",
       "      <th>99</th>\n",
       "      <td>Male</td>\n",
       "    </tr>\n",
       "  </tbody>\n",
       "</table>\n",
       "<p>100 rows × 1 columns</p>\n",
       "</div>"
      ],
      "text/plain": [
       "   Customer_Gender\n",
       "0            Other\n",
       "1             Male\n",
       "2           Female\n",
       "3           Female\n",
       "4           Female\n",
       "..             ...\n",
       "95            Male\n",
       "96          Female\n",
       "97            Male\n",
       "98            Male\n",
       "99            Male\n",
       "\n",
       "[100 rows x 1 columns]"
      ]
     },
     "execution_count": 66,
     "metadata": {},
     "output_type": "execute_result"
    }
   ],
   "source": [
    "df[['Customer_Gender']]"
   ]
  },
  {
   "cell_type": "code",
   "execution_count": 67,
   "id": "f1be0b36-e563-48d7-ba0c-74f3d7006ef1",
   "metadata": {},
   "outputs": [],
   "source": [
    "encoder_df=pd.DataFrame(encod, columns=Encoder.get_feature_names_out(['Customer_Gender'] ))"
   ]
  },
  {
   "cell_type": "code",
   "execution_count": 68,
   "id": "43f6debd-8441-4a83-bec2-b15f3e979284",
   "metadata": {},
   "outputs": [
    {
     "data": {
      "text/html": [
       "<div>\n",
       "<style scoped>\n",
       "    .dataframe tbody tr th:only-of-type {\n",
       "        vertical-align: middle;\n",
       "    }\n",
       "\n",
       "    .dataframe tbody tr th {\n",
       "        vertical-align: top;\n",
       "    }\n",
       "\n",
       "    .dataframe thead th {\n",
       "        text-align: right;\n",
       "    }\n",
       "</style>\n",
       "<table border=\"1\" class=\"dataframe\">\n",
       "  <thead>\n",
       "    <tr style=\"text-align: right;\">\n",
       "      <th></th>\n",
       "      <th>Customer_Gender_Female</th>\n",
       "      <th>Customer_Gender_Male</th>\n",
       "      <th>Customer_Gender_Other</th>\n",
       "    </tr>\n",
       "  </thead>\n",
       "  <tbody>\n",
       "    <tr>\n",
       "      <th>0</th>\n",
       "      <td>0.0</td>\n",
       "      <td>0.0</td>\n",
       "      <td>1.0</td>\n",
       "    </tr>\n",
       "    <tr>\n",
       "      <th>1</th>\n",
       "      <td>0.0</td>\n",
       "      <td>1.0</td>\n",
       "      <td>0.0</td>\n",
       "    </tr>\n",
       "    <tr>\n",
       "      <th>2</th>\n",
       "      <td>1.0</td>\n",
       "      <td>0.0</td>\n",
       "      <td>0.0</td>\n",
       "    </tr>\n",
       "    <tr>\n",
       "      <th>3</th>\n",
       "      <td>1.0</td>\n",
       "      <td>0.0</td>\n",
       "      <td>0.0</td>\n",
       "    </tr>\n",
       "    <tr>\n",
       "      <th>4</th>\n",
       "      <td>1.0</td>\n",
       "      <td>0.0</td>\n",
       "      <td>0.0</td>\n",
       "    </tr>\n",
       "    <tr>\n",
       "      <th>...</th>\n",
       "      <td>...</td>\n",
       "      <td>...</td>\n",
       "      <td>...</td>\n",
       "    </tr>\n",
       "    <tr>\n",
       "      <th>95</th>\n",
       "      <td>0.0</td>\n",
       "      <td>1.0</td>\n",
       "      <td>0.0</td>\n",
       "    </tr>\n",
       "    <tr>\n",
       "      <th>96</th>\n",
       "      <td>1.0</td>\n",
       "      <td>0.0</td>\n",
       "      <td>0.0</td>\n",
       "    </tr>\n",
       "    <tr>\n",
       "      <th>97</th>\n",
       "      <td>0.0</td>\n",
       "      <td>1.0</td>\n",
       "      <td>0.0</td>\n",
       "    </tr>\n",
       "    <tr>\n",
       "      <th>98</th>\n",
       "      <td>0.0</td>\n",
       "      <td>1.0</td>\n",
       "      <td>0.0</td>\n",
       "    </tr>\n",
       "    <tr>\n",
       "      <th>99</th>\n",
       "      <td>0.0</td>\n",
       "      <td>1.0</td>\n",
       "      <td>0.0</td>\n",
       "    </tr>\n",
       "  </tbody>\n",
       "</table>\n",
       "<p>100 rows × 3 columns</p>\n",
       "</div>"
      ],
      "text/plain": [
       "    Customer_Gender_Female  Customer_Gender_Male  Customer_Gender_Other\n",
       "0                      0.0                   0.0                    1.0\n",
       "1                      0.0                   1.0                    0.0\n",
       "2                      1.0                   0.0                    0.0\n",
       "3                      1.0                   0.0                    0.0\n",
       "4                      1.0                   0.0                    0.0\n",
       "..                     ...                   ...                    ...\n",
       "95                     0.0                   1.0                    0.0\n",
       "96                     1.0                   0.0                    0.0\n",
       "97                     0.0                   1.0                    0.0\n",
       "98                     0.0                   1.0                    0.0\n",
       "99                     0.0                   1.0                    0.0\n",
       "\n",
       "[100 rows x 3 columns]"
      ]
     },
     "execution_count": 68,
     "metadata": {},
     "output_type": "execute_result"
    }
   ],
   "source": [
    "encoder_df"
   ]
  },
  {
   "cell_type": "markdown",
   "id": "44dbb4c1-f16c-4869-9281-4ec5c7fd169f",
   "metadata": {},
   "source": [
    "# now this is creating the problem of sparx and also for big no. of class (means different categories ) then the no. of attributes will be too much so, to resolve that we will use label encoding "
   ]
  },
  {
   "cell_type": "raw",
   "id": "669d839a-7c09-453f-9af2-ddc169c4e768",
   "metadata": {},
   "source": [
    "2. Label Encoding ( in this we will assign the value to categories based on the alphabeical order from 0 to n-1 \n",
    "where n is the no. of categories"
   ]
  },
  {
   "cell_type": "code",
   "execution_count": 69,
   "id": "833aa56f-2dd0-416d-9abd-d3addb17c884",
   "metadata": {},
   "outputs": [],
   "source": [
    "from sklearn.preprocessing import LabelEncoder"
   ]
  },
  {
   "cell_type": "code",
   "execution_count": 70,
   "id": "16306874-e302-46bf-91e3-6766158e996f",
   "metadata": {},
   "outputs": [],
   "source": [
    "letEncode=LabelEncoder()"
   ]
  },
  {
   "cell_type": "code",
   "execution_count": 71,
   "id": "c9da3eb8-1e0d-4f3e-acf0-1511727dec8a",
   "metadata": {},
   "outputs": [
    {
     "name": "stderr",
     "output_type": "stream",
     "text": [
      "C:\\Users\\Acer\\AppData\\Local\\Programs\\Python\\Python39\\lib\\site-packages\\sklearn\\preprocessing\\_label.py:110: DataConversionWarning: A column-vector y was passed when a 1d array was expected. Please change the shape of y to (n_samples, ), for example using ravel().\n",
      "  y = column_or_1d(y, warn=True)\n"
     ]
    }
   ],
   "source": [
    "labelencoded=letEncode.fit_transform(df[['Payment_Method']])"
   ]
  },
  {
   "cell_type": "code",
   "execution_count": 72,
   "id": "84150ba1-93f2-4b9c-8c6a-6a217bf50fb4",
   "metadata": {},
   "outputs": [
    {
     "data": {
      "text/plain": [
       "100"
      ]
     },
     "execution_count": 72,
     "metadata": {},
     "output_type": "execute_result"
    }
   ],
   "source": [
    "\n",
    "len(labelencoded)"
   ]
  },
  {
   "cell_type": "code",
   "execution_count": 73,
   "id": "4735da77-caee-42f4-9c9f-b0a335311e71",
   "metadata": {},
   "outputs": [
    {
     "data": {
      "text/plain": [
       "array([2, 0, 2, 3, 2, 3, 3, 0, 0, 0, 1, 1, 2, 1, 0, 3, 0, 3, 1, 0, 1, 3,\n",
       "       1, 1, 2, 3, 2, 0, 2, 1, 3, 0, 0, 1, 1, 1, 0, 1, 3, 1, 0, 3, 3, 0,\n",
       "       1, 0, 0, 2, 0, 3, 3, 0, 1, 3, 3, 3, 3, 1, 2, 3, 0, 1, 3, 2, 2, 3,\n",
       "       0, 0, 1, 1, 1, 2, 0, 3, 1, 3, 1, 0, 3, 3, 3, 0, 1, 3, 2, 0, 1, 0,\n",
       "       2, 3, 3, 1, 3, 0, 2, 0, 2, 3, 2, 1])"
      ]
     },
     "execution_count": 73,
     "metadata": {},
     "output_type": "execute_result"
    }
   ],
   "source": [
    "labelencoded"
   ]
  },
  {
   "cell_type": "code",
   "execution_count": 74,
   "id": "33307fad-d8dd-4467-b569-0b2f36f8bcca",
   "metadata": {},
   "outputs": [],
   "source": [
    "showlabel=pd.DataFrame(df[['Payment_Method']] , labelencoded)"
   ]
  },
  {
   "cell_type": "code",
   "execution_count": 75,
   "id": "f6b8fd23-e041-45e3-a00e-54b8c547c548",
   "metadata": {},
   "outputs": [
    {
     "data": {
      "text/html": [
       "<div>\n",
       "<style scoped>\n",
       "    .dataframe tbody tr th:only-of-type {\n",
       "        vertical-align: middle;\n",
       "    }\n",
       "\n",
       "    .dataframe tbody tr th {\n",
       "        vertical-align: top;\n",
       "    }\n",
       "\n",
       "    .dataframe thead th {\n",
       "        text-align: right;\n",
       "    }\n",
       "</style>\n",
       "<table border=\"1\" class=\"dataframe\">\n",
       "  <thead>\n",
       "    <tr style=\"text-align: right;\">\n",
       "      <th></th>\n",
       "      <th>Payment_Method</th>\n",
       "    </tr>\n",
       "  </thead>\n",
       "  <tbody>\n",
       "    <tr>\n",
       "      <th>2</th>\n",
       "      <td>Debit Card</td>\n",
       "    </tr>\n",
       "    <tr>\n",
       "      <th>0</th>\n",
       "      <td>Debit Card</td>\n",
       "    </tr>\n",
       "    <tr>\n",
       "      <th>2</th>\n",
       "      <td>Debit Card</td>\n",
       "    </tr>\n",
       "    <tr>\n",
       "      <th>3</th>\n",
       "      <td>UPI</td>\n",
       "    </tr>\n",
       "    <tr>\n",
       "      <th>2</th>\n",
       "      <td>Debit Card</td>\n",
       "    </tr>\n",
       "    <tr>\n",
       "      <th>...</th>\n",
       "      <td>...</td>\n",
       "    </tr>\n",
       "    <tr>\n",
       "      <th>0</th>\n",
       "      <td>Debit Card</td>\n",
       "    </tr>\n",
       "    <tr>\n",
       "      <th>2</th>\n",
       "      <td>Debit Card</td>\n",
       "    </tr>\n",
       "    <tr>\n",
       "      <th>3</th>\n",
       "      <td>UPI</td>\n",
       "    </tr>\n",
       "    <tr>\n",
       "      <th>2</th>\n",
       "      <td>Debit Card</td>\n",
       "    </tr>\n",
       "    <tr>\n",
       "      <th>1</th>\n",
       "      <td>Cash</td>\n",
       "    </tr>\n",
       "  </tbody>\n",
       "</table>\n",
       "<p>100 rows × 1 columns</p>\n",
       "</div>"
      ],
      "text/plain": [
       "   Payment_Method\n",
       "2      Debit Card\n",
       "0      Debit Card\n",
       "2      Debit Card\n",
       "3             UPI\n",
       "2      Debit Card\n",
       "..            ...\n",
       "0      Debit Card\n",
       "2      Debit Card\n",
       "3             UPI\n",
       "2      Debit Card\n",
       "1            Cash\n",
       "\n",
       "[100 rows x 1 columns]"
      ]
     },
     "execution_count": 75,
     "metadata": {},
     "output_type": "execute_result"
    }
   ],
   "source": [
    "showlabel"
   ]
  },
  {
   "cell_type": "code",
   "execution_count": 76,
   "id": "78adccd6-a9af-4aeb-ad2e-4bc155273ca2",
   "metadata": {},
   "outputs": [],
   "source": [
    "# above is not mapping correctly "
   ]
  },
  {
   "cell_type": "code",
   "execution_count": 77,
   "id": "143e184a-08e2-4597-a4f0-710293ee019d",
   "metadata": {},
   "outputs": [],
   "source": [
    "# for correct mapping we will use encoder.classes_ , dict , zip , map"
   ]
  },
  {
   "cell_type": "code",
   "execution_count": 81,
   "id": "2874e91e-b45b-4411-99ff-cef128878c2a",
   "metadata": {},
   "outputs": [],
   "source": [
    "encodermap=dict(zip(letEncode.classes_ , letEncode.transform(letEncode.classes_)))"
   ]
  },
  {
   "cell_type": "code",
   "execution_count": 82,
   "id": "caba3358-a84d-48a7-8462-84bf333f455a",
   "metadata": {},
   "outputs": [
    {
     "data": {
      "text/plain": [
       "{'Cash': 0, 'Credit Card': 1, 'Debit Card': 2, 'UPI': 3}"
      ]
     },
     "execution_count": 82,
     "metadata": {},
     "output_type": "execute_result"
    }
   ],
   "source": [
    "encodermap"
   ]
  },
  {
   "cell_type": "code",
   "execution_count": 83,
   "id": "2455698b-3b4a-4486-97ce-7687e7d651d2",
   "metadata": {},
   "outputs": [],
   "source": [
    "df['labelEncoded']=df['Payment_Method'].map(encodermap)"
   ]
  },
  {
   "cell_type": "code",
   "execution_count": 85,
   "id": "1e12aa52-b502-46f5-a09b-db3ddb1c5b9d",
   "metadata": {},
   "outputs": [
    {
     "data": {
      "text/html": [
       "<div>\n",
       "<style scoped>\n",
       "    .dataframe tbody tr th:only-of-type {\n",
       "        vertical-align: middle;\n",
       "    }\n",
       "\n",
       "    .dataframe tbody tr th {\n",
       "        vertical-align: top;\n",
       "    }\n",
       "\n",
       "    .dataframe thead th {\n",
       "        text-align: right;\n",
       "    }\n",
       "</style>\n",
       "<table border=\"1\" class=\"dataframe\">\n",
       "  <thead>\n",
       "    <tr style=\"text-align: right;\">\n",
       "      <th></th>\n",
       "      <th>labelEncoded</th>\n",
       "    </tr>\n",
       "  </thead>\n",
       "  <tbody>\n",
       "    <tr>\n",
       "      <th>0</th>\n",
       "      <td>2</td>\n",
       "    </tr>\n",
       "    <tr>\n",
       "      <th>1</th>\n",
       "      <td>0</td>\n",
       "    </tr>\n",
       "    <tr>\n",
       "      <th>2</th>\n",
       "      <td>2</td>\n",
       "    </tr>\n",
       "    <tr>\n",
       "      <th>3</th>\n",
       "      <td>3</td>\n",
       "    </tr>\n",
       "    <tr>\n",
       "      <th>4</th>\n",
       "      <td>2</td>\n",
       "    </tr>\n",
       "    <tr>\n",
       "      <th>...</th>\n",
       "      <td>...</td>\n",
       "    </tr>\n",
       "    <tr>\n",
       "      <th>95</th>\n",
       "      <td>0</td>\n",
       "    </tr>\n",
       "    <tr>\n",
       "      <th>96</th>\n",
       "      <td>2</td>\n",
       "    </tr>\n",
       "    <tr>\n",
       "      <th>97</th>\n",
       "      <td>3</td>\n",
       "    </tr>\n",
       "    <tr>\n",
       "      <th>98</th>\n",
       "      <td>2</td>\n",
       "    </tr>\n",
       "    <tr>\n",
       "      <th>99</th>\n",
       "      <td>1</td>\n",
       "    </tr>\n",
       "  </tbody>\n",
       "</table>\n",
       "<p>100 rows × 1 columns</p>\n",
       "</div>"
      ],
      "text/plain": [
       "    labelEncoded\n",
       "0              2\n",
       "1              0\n",
       "2              2\n",
       "3              3\n",
       "4              2\n",
       "..           ...\n",
       "95             0\n",
       "96             2\n",
       "97             3\n",
       "98             2\n",
       "99             1\n",
       "\n",
       "[100 rows x 1 columns]"
      ]
     },
     "execution_count": 85,
     "metadata": {},
     "output_type": "execute_result"
    }
   ],
   "source": [
    "df[['labelEncoded']]"
   ]
  },
  {
   "cell_type": "code",
   "execution_count": 86,
   "id": "d8a69837-3a45-4c2f-acfe-ccfa644a1251",
   "metadata": {},
   "outputs": [],
   "source": [
    "# now the problem how to priporty then for that come ordinal Encoding (( in this we will assign value as per the priority order we decide))"
   ]
  },
  {
   "cell_type": "code",
   "execution_count": 90,
   "id": "d610d7b2-cfd4-4fee-899b-3adab96e4b11",
   "metadata": {},
   "outputs": [],
   "source": [
    "from sklearn.preprocessing import OrdinalEncoder"
   ]
  },
  {
   "cell_type": "code",
   "execution_count": 91,
   "id": "a531c85e-5580-49e8-85af-808a1adc59e5",
   "metadata": {},
   "outputs": [
    {
     "data": {
      "text/html": [
       "<div>\n",
       "<style scoped>\n",
       "    .dataframe tbody tr th:only-of-type {\n",
       "        vertical-align: middle;\n",
       "    }\n",
       "\n",
       "    .dataframe tbody tr th {\n",
       "        vertical-align: top;\n",
       "    }\n",
       "\n",
       "    .dataframe thead th {\n",
       "        text-align: right;\n",
       "    }\n",
       "</style>\n",
       "<table border=\"1\" class=\"dataframe\">\n",
       "  <thead>\n",
       "    <tr style=\"text-align: right;\">\n",
       "      <th></th>\n",
       "      <th>Customer_ID</th>\n",
       "      <th>Customer_Gender</th>\n",
       "      <th>Payment_Method</th>\n",
       "      <th>Education_Level</th>\n",
       "      <th>Customer_Loyalty</th>\n",
       "      <th>Purchase_Amount</th>\n",
       "      <th>labelEncoded</th>\n",
       "    </tr>\n",
       "  </thead>\n",
       "  <tbody>\n",
       "    <tr>\n",
       "      <th>0</th>\n",
       "      <td>C5374</td>\n",
       "      <td>Other</td>\n",
       "      <td>Debit Card</td>\n",
       "      <td>Bachelor’s</td>\n",
       "      <td>Silver</td>\n",
       "      <td>3573.85</td>\n",
       "      <td>2</td>\n",
       "    </tr>\n",
       "    <tr>\n",
       "      <th>1</th>\n",
       "      <td>C3280</td>\n",
       "      <td>Male</td>\n",
       "      <td>Cash</td>\n",
       "      <td>PhD</td>\n",
       "      <td>Bronze</td>\n",
       "      <td>4279.67</td>\n",
       "      <td>0</td>\n",
       "    </tr>\n",
       "    <tr>\n",
       "      <th>2</th>\n",
       "      <td>C3380</td>\n",
       "      <td>Female</td>\n",
       "      <td>Debit Card</td>\n",
       "      <td>High School</td>\n",
       "      <td>Silver</td>\n",
       "      <td>904.41</td>\n",
       "      <td>2</td>\n",
       "    </tr>\n",
       "    <tr>\n",
       "      <th>3</th>\n",
       "      <td>C4447</td>\n",
       "      <td>Female</td>\n",
       "      <td>UPI</td>\n",
       "      <td>Master’s</td>\n",
       "      <td>Silver</td>\n",
       "      <td>824.00</td>\n",
       "      <td>3</td>\n",
       "    </tr>\n",
       "  </tbody>\n",
       "</table>\n",
       "</div>"
      ],
      "text/plain": [
       "  Customer_ID Customer_Gender Payment_Method Education_Level Customer_Loyalty  \\\n",
       "0       C5374           Other     Debit Card      Bachelor’s           Silver   \n",
       "1       C3280            Male           Cash             PhD           Bronze   \n",
       "2       C3380          Female     Debit Card     High School           Silver   \n",
       "3       C4447          Female            UPI        Master’s           Silver   \n",
       "\n",
       "   Purchase_Amount  labelEncoded  \n",
       "0          3573.85             2  \n",
       "1          4279.67             0  \n",
       "2           904.41             2  \n",
       "3           824.00             3  "
      ]
     },
     "execution_count": 91,
     "metadata": {},
     "output_type": "execute_result"
    }
   ],
   "source": [
    "df.head(4)"
   ]
  },
  {
   "cell_type": "code",
   "execution_count": 94,
   "id": "c1417944-d1a0-43b8-b4be-cdd9282dad23",
   "metadata": {},
   "outputs": [
    {
     "data": {
      "text/plain": [
       "array(['Bachelor’s', 'PhD', 'High School', 'Master’s'], dtype=object)"
      ]
     },
     "execution_count": 94,
     "metadata": {},
     "output_type": "execute_result"
    }
   ],
   "source": [
    "# apply ordinalencoder on education level\n",
    "df['Education_Level'].unique()"
   ]
  },
  {
   "cell_type": "code",
   "execution_count": 101,
   "id": "9f5be967-3963-4cfb-a8b7-b9bb0b93f3b1",
   "metadata": {},
   "outputs": [],
   "source": [
    "ordinalencoder=OrdinalEncoder()\n",
    "orderedlevel = OrdinalEncoder(categories=[[\"High School\", \"Bachelor’s\", \"Master’s\", \"PhD\"]])\n",
    "\n",
    "encodedpart=orderedlevel.fit_transform(df[['Education_Level']])"
   ]
  },
  {
   "cell_type": "code",
   "execution_count": 102,
   "id": "e9c519be-e088-4e98-aed1-fb564d49a441",
   "metadata": {},
   "outputs": [
    {
     "data": {
      "text/plain": [
       "array([[1.],\n",
       "       [3.],\n",
       "       [0.],\n",
       "       [2.],\n",
       "       [2.],\n",
       "       [2.],\n",
       "       [1.],\n",
       "       [3.],\n",
       "       [3.],\n",
       "       [3.],\n",
       "       [0.],\n",
       "       [0.],\n",
       "       [2.],\n",
       "       [0.],\n",
       "       [1.],\n",
       "       [1.],\n",
       "       [2.],\n",
       "       [0.],\n",
       "       [3.],\n",
       "       [2.],\n",
       "       [1.],\n",
       "       [1.],\n",
       "       [3.],\n",
       "       [1.],\n",
       "       [2.],\n",
       "       [1.],\n",
       "       [1.],\n",
       "       [1.],\n",
       "       [3.],\n",
       "       [3.],\n",
       "       [3.],\n",
       "       [0.],\n",
       "       [2.],\n",
       "       [3.],\n",
       "       [1.],\n",
       "       [1.],\n",
       "       [0.],\n",
       "       [1.],\n",
       "       [1.],\n",
       "       [3.],\n",
       "       [1.],\n",
       "       [3.],\n",
       "       [0.],\n",
       "       [0.],\n",
       "       [0.],\n",
       "       [1.],\n",
       "       [3.],\n",
       "       [1.],\n",
       "       [2.],\n",
       "       [2.],\n",
       "       [0.],\n",
       "       [3.],\n",
       "       [3.],\n",
       "       [1.],\n",
       "       [1.],\n",
       "       [2.],\n",
       "       [3.],\n",
       "       [1.],\n",
       "       [2.],\n",
       "       [1.],\n",
       "       [1.],\n",
       "       [0.],\n",
       "       [1.],\n",
       "       [2.],\n",
       "       [3.],\n",
       "       [1.],\n",
       "       [2.],\n",
       "       [0.],\n",
       "       [0.],\n",
       "       [1.],\n",
       "       [2.],\n",
       "       [2.],\n",
       "       [0.],\n",
       "       [3.],\n",
       "       [1.],\n",
       "       [3.],\n",
       "       [3.],\n",
       "       [1.],\n",
       "       [2.],\n",
       "       [2.],\n",
       "       [0.],\n",
       "       [0.],\n",
       "       [0.],\n",
       "       [1.],\n",
       "       [2.],\n",
       "       [1.],\n",
       "       [0.],\n",
       "       [2.],\n",
       "       [3.],\n",
       "       [0.],\n",
       "       [0.],\n",
       "       [0.],\n",
       "       [2.],\n",
       "       [2.],\n",
       "       [2.],\n",
       "       [1.],\n",
       "       [3.],\n",
       "       [3.],\n",
       "       [3.],\n",
       "       [0.]])"
      ]
     },
     "execution_count": 102,
     "metadata": {},
     "output_type": "execute_result"
    }
   ],
   "source": [
    "encodedpart"
   ]
  },
  {
   "cell_type": "code",
   "execution_count": 104,
   "id": "596adf24-8978-41ca-9720-cc5dc3858f5d",
   "metadata": {},
   "outputs": [],
   "source": [
    "# Ordinal Target Encoding \n",
    "mean_price=df.groupby('Education_Level')['Purchase_Amount'].mean()"
   ]
  },
  {
   "cell_type": "code",
   "execution_count": 105,
   "id": "974ce485-b08b-418f-b8c9-fb45ac4b1f44",
   "metadata": {},
   "outputs": [
    {
     "data": {
      "text/plain": [
       "Education_Level\n",
       "Bachelor’s     2320.623667\n",
       "High School    2177.040000\n",
       "Master’s       3320.906522\n",
       "PhD            2745.314583\n",
       "Name: Purchase_Amount, dtype: float64"
      ]
     },
     "execution_count": 105,
     "metadata": {},
     "output_type": "execute_result"
    }
   ],
   "source": [
    "mean_price"
   ]
  },
  {
   "cell_type": "code",
   "execution_count": 106,
   "id": "b088bb36-0cbf-439e-a1e3-90929fa34177",
   "metadata": {},
   "outputs": [],
   "source": [
    "# This give us the mean price on the basis of Education leve"
   ]
  },
  {
   "cell_type": "code",
   "execution_count": 108,
   "id": "631487cd-1aa0-437c-b4bc-39dd5d8d0dcd",
   "metadata": {},
   "outputs": [],
   "source": [
    "# Ordinal Target Encoding \n",
    "mean_price=df.groupby('Education_Level')['Purchase_Amount'].mean().to_dict()"
   ]
  },
  {
   "cell_type": "code",
   "execution_count": 109,
   "id": "9874cbb6-0be1-40c0-a71f-a82099c19c36",
   "metadata": {},
   "outputs": [
    {
     "data": {
      "text/plain": [
       "{'Bachelor’s': 2320.6236666666664,\n",
       " 'High School': 2177.04,\n",
       " 'Master’s': 3320.90652173913,\n",
       " 'PhD': 2745.3145833333333}"
      ]
     },
     "execution_count": 109,
     "metadata": {},
     "output_type": "execute_result"
    }
   ],
   "source": [
    "mean_price"
   ]
  },
  {
   "cell_type": "code",
   "execution_count": null,
   "id": "e096e2ce-416d-4a62-b2bd-393600eb18f8",
   "metadata": {},
   "outputs": [],
   "source": []
  }
 ],
 "metadata": {
  "kernelspec": {
   "display_name": "Python 3 (ipykernel)",
   "language": "python",
   "name": "python3"
  },
  "language_info": {
   "codemirror_mode": {
    "name": "ipython",
    "version": 3
   },
   "file_extension": ".py",
   "mimetype": "text/x-python",
   "name": "python",
   "nbconvert_exporter": "python",
   "pygments_lexer": "ipython3",
   "version": "3.9.0"
  }
 },
 "nbformat": 4,
 "nbformat_minor": 5
}
