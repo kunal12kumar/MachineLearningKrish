{
 "cells": [
  {
   "cell_type": "code",
   "execution_count": 82,
   "id": "c9388ecd-48f1-499f-9aee-8142cbe7e9a2",
   "metadata": {},
   "outputs": [],
   "source": [
    "# Imbalance dataset contains one data in maximum no. and other contains in less nos."
   ]
  },
  {
   "cell_type": "code",
   "execution_count": 83,
   "id": "e0b3f02b-847d-4d26-a926-d47d565720c7",
   "metadata": {},
   "outputs": [],
   "source": [
    "# in this we will make dataset itself\n"
   ]
  },
  {
   "cell_type": "code",
   "execution_count": 84,
   "id": "0c3f417a-7da5-49f1-8f40-68511bf061ab",
   "metadata": {},
   "outputs": [],
   "source": [
    "import pandas as pd\n",
    "import numpy as np\n",
    "import matplotlib.pyplot as plt\n",
    "import seaborn as sb"
   ]
  },
  {
   "cell_type": "code",
   "execution_count": 85,
   "id": "ece5d032-94ca-4e48-9a00-2e29f3c5973a",
   "metadata": {},
   "outputs": [],
   "source": [
    "firstclass= pd.DataFrame({'feature1': np.random.normal( loc=0 , scale=1 , size=500),\n",
    "    'feature2': np.random.normal( loc=0 , scale=1 , size=500),\n",
    "    'target': 500*[0]})"
   ]
  },
  {
   "cell_type": "code",
   "execution_count": 86,
   "id": "07e6a22c-06d5-4e35-bec4-f06c71a0ae72",
   "metadata": {},
   "outputs": [
    {
     "data": {
      "text/html": [
       "<div>\n",
       "<style scoped>\n",
       "    .dataframe tbody tr th:only-of-type {\n",
       "        vertical-align: middle;\n",
       "    }\n",
       "\n",
       "    .dataframe tbody tr th {\n",
       "        vertical-align: top;\n",
       "    }\n",
       "\n",
       "    .dataframe thead th {\n",
       "        text-align: right;\n",
       "    }\n",
       "</style>\n",
       "<table border=\"1\" class=\"dataframe\">\n",
       "  <thead>\n",
       "    <tr style=\"text-align: right;\">\n",
       "      <th></th>\n",
       "      <th>feature1</th>\n",
       "      <th>feature2</th>\n",
       "      <th>target</th>\n",
       "    </tr>\n",
       "  </thead>\n",
       "  <tbody>\n",
       "    <tr>\n",
       "      <th>0</th>\n",
       "      <td>0.763908</td>\n",
       "      <td>-1.773018</td>\n",
       "      <td>0</td>\n",
       "    </tr>\n",
       "    <tr>\n",
       "      <th>1</th>\n",
       "      <td>-0.337505</td>\n",
       "      <td>-0.185530</td>\n",
       "      <td>0</td>\n",
       "    </tr>\n",
       "    <tr>\n",
       "      <th>2</th>\n",
       "      <td>-0.861674</td>\n",
       "      <td>-1.357062</td>\n",
       "      <td>0</td>\n",
       "    </tr>\n",
       "    <tr>\n",
       "      <th>3</th>\n",
       "      <td>-0.675259</td>\n",
       "      <td>0.984032</td>\n",
       "      <td>0</td>\n",
       "    </tr>\n",
       "    <tr>\n",
       "      <th>4</th>\n",
       "      <td>0.320456</td>\n",
       "      <td>-1.363923</td>\n",
       "      <td>0</td>\n",
       "    </tr>\n",
       "    <tr>\n",
       "      <th>...</th>\n",
       "      <td>...</td>\n",
       "      <td>...</td>\n",
       "      <td>...</td>\n",
       "    </tr>\n",
       "    <tr>\n",
       "      <th>495</th>\n",
       "      <td>-0.916345</td>\n",
       "      <td>-0.372758</td>\n",
       "      <td>0</td>\n",
       "    </tr>\n",
       "    <tr>\n",
       "      <th>496</th>\n",
       "      <td>2.347665</td>\n",
       "      <td>0.341202</td>\n",
       "      <td>0</td>\n",
       "    </tr>\n",
       "    <tr>\n",
       "      <th>497</th>\n",
       "      <td>-0.562751</td>\n",
       "      <td>0.021611</td>\n",
       "      <td>0</td>\n",
       "    </tr>\n",
       "    <tr>\n",
       "      <th>498</th>\n",
       "      <td>0.940542</td>\n",
       "      <td>-0.161798</td>\n",
       "      <td>0</td>\n",
       "    </tr>\n",
       "    <tr>\n",
       "      <th>499</th>\n",
       "      <td>-1.213840</td>\n",
       "      <td>-0.584365</td>\n",
       "      <td>0</td>\n",
       "    </tr>\n",
       "  </tbody>\n",
       "</table>\n",
       "<p>500 rows × 3 columns</p>\n",
       "</div>"
      ],
      "text/plain": [
       "     feature1  feature2  target\n",
       "0    0.763908 -1.773018       0\n",
       "1   -0.337505 -0.185530       0\n",
       "2   -0.861674 -1.357062       0\n",
       "3   -0.675259  0.984032       0\n",
       "4    0.320456 -1.363923       0\n",
       "..        ...       ...     ...\n",
       "495 -0.916345 -0.372758       0\n",
       "496  2.347665  0.341202       0\n",
       "497 -0.562751  0.021611       0\n",
       "498  0.940542 -0.161798       0\n",
       "499 -1.213840 -0.584365       0\n",
       "\n",
       "[500 rows x 3 columns]"
      ]
     },
     "execution_count": 86,
     "metadata": {},
     "output_type": "execute_result"
    }
   ],
   "source": [
    "firstclass"
   ]
  },
  {
   "cell_type": "code",
   "execution_count": 87,
   "id": "7216c854-332f-40ec-8540-f99104af579b",
   "metadata": {},
   "outputs": [
    {
     "data": {
      "text/plain": [
       "-0.027726941083750994"
      ]
     },
     "execution_count": 87,
     "metadata": {},
     "output_type": "execute_result"
    }
   ],
   "source": [
    "firstclass['feature1'].mean()"
   ]
  },
  {
   "cell_type": "code",
   "execution_count": 88,
   "id": "88622d1a-3185-4f99-bea2-d96dfaed1787",
   "metadata": {},
   "outputs": [],
   "source": [
    "secondclass=pd.DataFrame({\n",
    "    'feature1': np.random.normal(loc=0 , scale=2 , size=100),\n",
    "    'feature2': np.random.normal(loc=0 , scale=2 , size=100),\n",
    "'target': [1]*100})"
   ]
  },
  {
   "cell_type": "code",
   "execution_count": 89,
   "id": "90d2ec58-2755-41ce-9e7e-e1c92946210f",
   "metadata": {},
   "outputs": [
    {
     "data": {
      "text/html": [
       "<div>\n",
       "<style scoped>\n",
       "    .dataframe tbody tr th:only-of-type {\n",
       "        vertical-align: middle;\n",
       "    }\n",
       "\n",
       "    .dataframe tbody tr th {\n",
       "        vertical-align: top;\n",
       "    }\n",
       "\n",
       "    .dataframe thead th {\n",
       "        text-align: right;\n",
       "    }\n",
       "</style>\n",
       "<table border=\"1\" class=\"dataframe\">\n",
       "  <thead>\n",
       "    <tr style=\"text-align: right;\">\n",
       "      <th></th>\n",
       "      <th>feature1</th>\n",
       "      <th>feature2</th>\n",
       "      <th>target</th>\n",
       "    </tr>\n",
       "  </thead>\n",
       "  <tbody>\n",
       "    <tr>\n",
       "      <th>0</th>\n",
       "      <td>-2.331612</td>\n",
       "      <td>-1.650028</td>\n",
       "      <td>1</td>\n",
       "    </tr>\n",
       "    <tr>\n",
       "      <th>1</th>\n",
       "      <td>-3.986784</td>\n",
       "      <td>1.300633</td>\n",
       "      <td>1</td>\n",
       "    </tr>\n",
       "    <tr>\n",
       "      <th>2</th>\n",
       "      <td>1.285831</td>\n",
       "      <td>-0.974427</td>\n",
       "      <td>1</td>\n",
       "    </tr>\n",
       "    <tr>\n",
       "      <th>3</th>\n",
       "      <td>0.369419</td>\n",
       "      <td>0.442218</td>\n",
       "      <td>1</td>\n",
       "    </tr>\n",
       "    <tr>\n",
       "      <th>4</th>\n",
       "      <td>-1.777056</td>\n",
       "      <td>-0.989522</td>\n",
       "      <td>1</td>\n",
       "    </tr>\n",
       "    <tr>\n",
       "      <th>...</th>\n",
       "      <td>...</td>\n",
       "      <td>...</td>\n",
       "      <td>...</td>\n",
       "    </tr>\n",
       "    <tr>\n",
       "      <th>95</th>\n",
       "      <td>-0.056762</td>\n",
       "      <td>1.967901</td>\n",
       "      <td>1</td>\n",
       "    </tr>\n",
       "    <tr>\n",
       "      <th>96</th>\n",
       "      <td>3.397487</td>\n",
       "      <td>-2.992490</td>\n",
       "      <td>1</td>\n",
       "    </tr>\n",
       "    <tr>\n",
       "      <th>97</th>\n",
       "      <td>0.455265</td>\n",
       "      <td>1.714560</td>\n",
       "      <td>1</td>\n",
       "    </tr>\n",
       "    <tr>\n",
       "      <th>98</th>\n",
       "      <td>4.352137</td>\n",
       "      <td>-1.786878</td>\n",
       "      <td>1</td>\n",
       "    </tr>\n",
       "    <tr>\n",
       "      <th>99</th>\n",
       "      <td>0.077244</td>\n",
       "      <td>0.164394</td>\n",
       "      <td>1</td>\n",
       "    </tr>\n",
       "  </tbody>\n",
       "</table>\n",
       "<p>100 rows × 3 columns</p>\n",
       "</div>"
      ],
      "text/plain": [
       "    feature1  feature2  target\n",
       "0  -2.331612 -1.650028       1\n",
       "1  -3.986784  1.300633       1\n",
       "2   1.285831 -0.974427       1\n",
       "3   0.369419  0.442218       1\n",
       "4  -1.777056 -0.989522       1\n",
       "..       ...       ...     ...\n",
       "95 -0.056762  1.967901       1\n",
       "96  3.397487 -2.992490       1\n",
       "97  0.455265  1.714560       1\n",
       "98  4.352137 -1.786878       1\n",
       "99  0.077244  0.164394       1\n",
       "\n",
       "[100 rows x 3 columns]"
      ]
     },
     "execution_count": 89,
     "metadata": {},
     "output_type": "execute_result"
    }
   ],
   "source": [
    "secondclass"
   ]
  },
  {
   "cell_type": "code",
   "execution_count": 90,
   "id": "6755f574-c1f9-4036-874c-12e7f35e132b",
   "metadata": {},
   "outputs": [],
   "source": [
    "# now creating a merged table for evaluting the value "
   ]
  },
  {
   "cell_type": "code",
   "execution_count": 91,
   "id": "004f3ffa-766d-426b-beb4-c744b2b90c8b",
   "metadata": {},
   "outputs": [],
   "source": [
    "df=pd.concat([firstclass,secondclass])"
   ]
  },
  {
   "cell_type": "code",
   "execution_count": 92,
   "id": "32e9819a-b152-4acd-8b88-985f73ebe21e",
   "metadata": {},
   "outputs": [
    {
     "data": {
      "text/html": [
       "<div>\n",
       "<style scoped>\n",
       "    .dataframe tbody tr th:only-of-type {\n",
       "        vertical-align: middle;\n",
       "    }\n",
       "\n",
       "    .dataframe tbody tr th {\n",
       "        vertical-align: top;\n",
       "    }\n",
       "\n",
       "    .dataframe thead th {\n",
       "        text-align: right;\n",
       "    }\n",
       "</style>\n",
       "<table border=\"1\" class=\"dataframe\">\n",
       "  <thead>\n",
       "    <tr style=\"text-align: right;\">\n",
       "      <th></th>\n",
       "      <th>feature1</th>\n",
       "      <th>feature2</th>\n",
       "      <th>target</th>\n",
       "    </tr>\n",
       "  </thead>\n",
       "  <tbody>\n",
       "    <tr>\n",
       "      <th>0</th>\n",
       "      <td>0.763908</td>\n",
       "      <td>-1.773018</td>\n",
       "      <td>0</td>\n",
       "    </tr>\n",
       "    <tr>\n",
       "      <th>1</th>\n",
       "      <td>-0.337505</td>\n",
       "      <td>-0.185530</td>\n",
       "      <td>0</td>\n",
       "    </tr>\n",
       "    <tr>\n",
       "      <th>2</th>\n",
       "      <td>-0.861674</td>\n",
       "      <td>-1.357062</td>\n",
       "      <td>0</td>\n",
       "    </tr>\n",
       "    <tr>\n",
       "      <th>3</th>\n",
       "      <td>-0.675259</td>\n",
       "      <td>0.984032</td>\n",
       "      <td>0</td>\n",
       "    </tr>\n",
       "    <tr>\n",
       "      <th>4</th>\n",
       "      <td>0.320456</td>\n",
       "      <td>-1.363923</td>\n",
       "      <td>0</td>\n",
       "    </tr>\n",
       "    <tr>\n",
       "      <th>...</th>\n",
       "      <td>...</td>\n",
       "      <td>...</td>\n",
       "      <td>...</td>\n",
       "    </tr>\n",
       "    <tr>\n",
       "      <th>95</th>\n",
       "      <td>-0.056762</td>\n",
       "      <td>1.967901</td>\n",
       "      <td>1</td>\n",
       "    </tr>\n",
       "    <tr>\n",
       "      <th>96</th>\n",
       "      <td>3.397487</td>\n",
       "      <td>-2.992490</td>\n",
       "      <td>1</td>\n",
       "    </tr>\n",
       "    <tr>\n",
       "      <th>97</th>\n",
       "      <td>0.455265</td>\n",
       "      <td>1.714560</td>\n",
       "      <td>1</td>\n",
       "    </tr>\n",
       "    <tr>\n",
       "      <th>98</th>\n",
       "      <td>4.352137</td>\n",
       "      <td>-1.786878</td>\n",
       "      <td>1</td>\n",
       "    </tr>\n",
       "    <tr>\n",
       "      <th>99</th>\n",
       "      <td>0.077244</td>\n",
       "      <td>0.164394</td>\n",
       "      <td>1</td>\n",
       "    </tr>\n",
       "  </tbody>\n",
       "</table>\n",
       "<p>600 rows × 3 columns</p>\n",
       "</div>"
      ],
      "text/plain": [
       "    feature1  feature2  target\n",
       "0   0.763908 -1.773018       0\n",
       "1  -0.337505 -0.185530       0\n",
       "2  -0.861674 -1.357062       0\n",
       "3  -0.675259  0.984032       0\n",
       "4   0.320456 -1.363923       0\n",
       "..       ...       ...     ...\n",
       "95 -0.056762  1.967901       1\n",
       "96  3.397487 -2.992490       1\n",
       "97  0.455265  1.714560       1\n",
       "98  4.352137 -1.786878       1\n",
       "99  0.077244  0.164394       1\n",
       "\n",
       "[600 rows x 3 columns]"
      ]
     },
     "execution_count": 92,
     "metadata": {},
     "output_type": "execute_result"
    }
   ],
   "source": [
    "df"
   ]
  },
  {
   "cell_type": "code",
   "execution_count": 93,
   "id": "47c5471d-e603-4e68-926e-895b7239d9ca",
   "metadata": {},
   "outputs": [
    {
     "data": {
      "text/plain": [
       "<Axes: ylabel='Count'>"
      ]
     },
     "execution_count": 93,
     "metadata": {},
     "output_type": "execute_result"
    },
    {
     "data": {
      "image/png": "[encoded data removed]",
      "text/plain": [
       "<Figure size 640x480 with 1 Axes>"
      ]
     },
     "metadata": {},
     "output_type": "display_data"
    }
   ],
   "source": [
    "sb.histplot(df, kde=True)"
   ]
  },
  {
   "cell_type": "markdown",
   "id": "ceebe08b-41e2-4433-b1a9-3b126328ea79",
   "metadata": {},
   "source": [
    "# Here we can se that it is a normal distribution curve"
   ]
  },
  {
   "cell_type": "code",
   "execution_count": 94,
   "id": "e26f66a6-5a40-492d-a7fd-3d05fbc9497a",
   "metadata": {},
   "outputs": [],
   "source": [
    "# we can solve it in by two methods by upsampling in that we increase the no. of minoriyt equal to the majority by library of sklearn "
   ]
  },
  {
   "cell_type": "raw",
   "id": "71c1c357-13e5-4fce-90fd-b208ab82f52e",
   "metadata": {},
   "source": [
    "# now doing upsampling extracting the minority nad majority value"
   ]
  },
  {
   "cell_type": "code",
   "execution_count": 95,
   "id": "c1202925-dd8b-4f39-a49b-9fbf02b41886",
   "metadata": {},
   "outputs": [],
   "source": [
    "majority= df[df['target']==0]"
   ]
  },
  {
   "cell_type": "code",
   "execution_count": 96,
   "id": "3af2fcff-918d-49bf-9309-c46a990d39db",
   "metadata": {},
   "outputs": [
    {
     "data": {
      "text/html": [
       "<div>\n",
       "<style scoped>\n",
       "    .dataframe tbody tr th:only-of-type {\n",
       "        vertical-align: middle;\n",
       "    }\n",
       "\n",
       "    .dataframe tbody tr th {\n",
       "        vertical-align: top;\n",
       "    }\n",
       "\n",
       "    .dataframe thead th {\n",
       "        text-align: right;\n",
       "    }\n",
       "</style>\n",
       "<table border=\"1\" class=\"dataframe\">\n",
       "  <thead>\n",
       "    <tr style=\"text-align: right;\">\n",
       "      <th></th>\n",
       "      <th>feature1</th>\n",
       "      <th>feature2</th>\n",
       "      <th>target</th>\n",
       "    </tr>\n",
       "  </thead>\n",
       "  <tbody>\n",
       "    <tr>\n",
       "      <th>0</th>\n",
       "      <td>0.763908</td>\n",
       "      <td>-1.773018</td>\n",
       "      <td>0</td>\n",
       "    </tr>\n",
       "    <tr>\n",
       "      <th>1</th>\n",
       "      <td>-0.337505</td>\n",
       "      <td>-0.185530</td>\n",
       "      <td>0</td>\n",
       "    </tr>\n",
       "    <tr>\n",
       "      <th>2</th>\n",
       "      <td>-0.861674</td>\n",
       "      <td>-1.357062</td>\n",
       "      <td>0</td>\n",
       "    </tr>\n",
       "    <tr>\n",
       "      <th>3</th>\n",
       "      <td>-0.675259</td>\n",
       "      <td>0.984032</td>\n",
       "      <td>0</td>\n",
       "    </tr>\n",
       "    <tr>\n",
       "      <th>4</th>\n",
       "      <td>0.320456</td>\n",
       "      <td>-1.363923</td>\n",
       "      <td>0</td>\n",
       "    </tr>\n",
       "    <tr>\n",
       "      <th>...</th>\n",
       "      <td>...</td>\n",
       "      <td>...</td>\n",
       "      <td>...</td>\n",
       "    </tr>\n",
       "    <tr>\n",
       "      <th>495</th>\n",
       "      <td>-0.916345</td>\n",
       "      <td>-0.372758</td>\n",
       "      <td>0</td>\n",
       "    </tr>\n",
       "    <tr>\n",
       "      <th>496</th>\n",
       "      <td>2.347665</td>\n",
       "      <td>0.341202</td>\n",
       "      <td>0</td>\n",
       "    </tr>\n",
       "    <tr>\n",
       "      <th>497</th>\n",
       "      <td>-0.562751</td>\n",
       "      <td>0.021611</td>\n",
       "      <td>0</td>\n",
       "    </tr>\n",
       "    <tr>\n",
       "      <th>498</th>\n",
       "      <td>0.940542</td>\n",
       "      <td>-0.161798</td>\n",
       "      <td>0</td>\n",
       "    </tr>\n",
       "    <tr>\n",
       "      <th>499</th>\n",
       "      <td>-1.213840</td>\n",
       "      <td>-0.584365</td>\n",
       "      <td>0</td>\n",
       "    </tr>\n",
       "  </tbody>\n",
       "</table>\n",
       "<p>500 rows × 3 columns</p>\n",
       "</div>"
      ],
      "text/plain": [
       "     feature1  feature2  target\n",
       "0    0.763908 -1.773018       0\n",
       "1   -0.337505 -0.185530       0\n",
       "2   -0.861674 -1.357062       0\n",
       "3   -0.675259  0.984032       0\n",
       "4    0.320456 -1.363923       0\n",
       "..        ...       ...     ...\n",
       "495 -0.916345 -0.372758       0\n",
       "496  2.347665  0.341202       0\n",
       "497 -0.562751  0.021611       0\n",
       "498  0.940542 -0.161798       0\n",
       "499 -1.213840 -0.584365       0\n",
       "\n",
       "[500 rows x 3 columns]"
      ]
     },
     "execution_count": 96,
     "metadata": {},
     "output_type": "execute_result"
    }
   ],
   "source": [
    "majority"
   ]
  },
  {
   "cell_type": "code",
   "execution_count": 97,
   "id": "1a91ea99-b0d0-40e6-a77b-5fc24a75b59e",
   "metadata": {},
   "outputs": [],
   "source": [
    "minority= df[df['target']==1]"
   ]
  },
  {
   "cell_type": "code",
   "execution_count": 98,
   "id": "7a2bbc15-bbee-4e52-9ee3-7308a28a9a29",
   "metadata": {},
   "outputs": [
    {
     "data": {
      "text/html": [
       "<div>\n",
       "<style scoped>\n",
       "    .dataframe tbody tr th:only-of-type {\n",
       "        vertical-align: middle;\n",
       "    }\n",
       "\n",
       "    .dataframe tbody tr th {\n",
       "        vertical-align: top;\n",
       "    }\n",
       "\n",
       "    .dataframe thead th {\n",
       "        text-align: right;\n",
       "    }\n",
       "</style>\n",
       "<table border=\"1\" class=\"dataframe\">\n",
       "  <thead>\n",
       "    <tr style=\"text-align: right;\">\n",
       "      <th></th>\n",
       "      <th>feature1</th>\n",
       "      <th>feature2</th>\n",
       "      <th>target</th>\n",
       "    </tr>\n",
       "  </thead>\n",
       "  <tbody>\n",
       "    <tr>\n",
       "      <th>0</th>\n",
       "      <td>-2.331612</td>\n",
       "      <td>-1.650028</td>\n",
       "      <td>1</td>\n",
       "    </tr>\n",
       "    <tr>\n",
       "      <th>1</th>\n",
       "      <td>-3.986784</td>\n",
       "      <td>1.300633</td>\n",
       "      <td>1</td>\n",
       "    </tr>\n",
       "    <tr>\n",
       "      <th>2</th>\n",
       "      <td>1.285831</td>\n",
       "      <td>-0.974427</td>\n",
       "      <td>1</td>\n",
       "    </tr>\n",
       "    <tr>\n",
       "      <th>3</th>\n",
       "      <td>0.369419</td>\n",
       "      <td>0.442218</td>\n",
       "      <td>1</td>\n",
       "    </tr>\n",
       "    <tr>\n",
       "      <th>4</th>\n",
       "      <td>-1.777056</td>\n",
       "      <td>-0.989522</td>\n",
       "      <td>1</td>\n",
       "    </tr>\n",
       "    <tr>\n",
       "      <th>...</th>\n",
       "      <td>...</td>\n",
       "      <td>...</td>\n",
       "      <td>...</td>\n",
       "    </tr>\n",
       "    <tr>\n",
       "      <th>95</th>\n",
       "      <td>-0.056762</td>\n",
       "      <td>1.967901</td>\n",
       "      <td>1</td>\n",
       "    </tr>\n",
       "    <tr>\n",
       "      <th>96</th>\n",
       "      <td>3.397487</td>\n",
       "      <td>-2.992490</td>\n",
       "      <td>1</td>\n",
       "    </tr>\n",
       "    <tr>\n",
       "      <th>97</th>\n",
       "      <td>0.455265</td>\n",
       "      <td>1.714560</td>\n",
       "      <td>1</td>\n",
       "    </tr>\n",
       "    <tr>\n",
       "      <th>98</th>\n",
       "      <td>4.352137</td>\n",
       "      <td>-1.786878</td>\n",
       "      <td>1</td>\n",
       "    </tr>\n",
       "    <tr>\n",
       "      <th>99</th>\n",
       "      <td>0.077244</td>\n",
       "      <td>0.164394</td>\n",
       "      <td>1</td>\n",
       "    </tr>\n",
       "  </tbody>\n",
       "</table>\n",
       "<p>100 rows × 3 columns</p>\n",
       "</div>"
      ],
      "text/plain": [
       "    feature1  feature2  target\n",
       "0  -2.331612 -1.650028       1\n",
       "1  -3.986784  1.300633       1\n",
       "2   1.285831 -0.974427       1\n",
       "3   0.369419  0.442218       1\n",
       "4  -1.777056 -0.989522       1\n",
       "..       ...       ...     ...\n",
       "95 -0.056762  1.967901       1\n",
       "96  3.397487 -2.992490       1\n",
       "97  0.455265  1.714560       1\n",
       "98  4.352137 -1.786878       1\n",
       "99  0.077244  0.164394       1\n",
       "\n",
       "[100 rows x 3 columns]"
      ]
     },
     "execution_count": 98,
     "metadata": {},
     "output_type": "execute_result"
    }
   ],
   "source": [
    "minority"
   ]
  },
  {
   "cell_type": "code",
   "execution_count": 99,
   "id": "97d64d92-150d-4d90-a510-56d19cbebf7e",
   "metadata": {},
   "outputs": [],
   "source": [
    "# now upsampling by using sklearn utilis library the its subset resample "
   ]
  },
  {
   "cell_type": "code",
   "execution_count": 100,
   "id": "a6a5adbd-1960-4de2-8617-88f36615b8d1",
   "metadata": {},
   "outputs": [],
   "source": [
    "from sklearn.utils import resample"
   ]
  },
  {
   "cell_type": "code",
   "execution_count": 101,
   "id": "0cc889fd-17a0-4db5-8e5e-414441c6c2a6",
   "metadata": {},
   "outputs": [],
   "source": [
    "df_resampled= resample(minority, replace=True ,  n_samples= len(majority) , random_state=42)"
   ]
  },
  {
   "cell_type": "code",
   "execution_count": 102,
   "id": "1508cc80-d23a-4a3f-a2f3-b94138893580",
   "metadata": {},
   "outputs": [
    {
     "data": {
      "text/html": [
       "<div>\n",
       "<style scoped>\n",
       "    .dataframe tbody tr th:only-of-type {\n",
       "        vertical-align: middle;\n",
       "    }\n",
       "\n",
       "    .dataframe tbody tr th {\n",
       "        vertical-align: top;\n",
       "    }\n",
       "\n",
       "    .dataframe thead th {\n",
       "        text-align: right;\n",
       "    }\n",
       "</style>\n",
       "<table border=\"1\" class=\"dataframe\">\n",
       "  <thead>\n",
       "    <tr style=\"text-align: right;\">\n",
       "      <th></th>\n",
       "      <th>feature1</th>\n",
       "      <th>feature2</th>\n",
       "      <th>target</th>\n",
       "    </tr>\n",
       "  </thead>\n",
       "  <tbody>\n",
       "    <tr>\n",
       "      <th>51</th>\n",
       "      <td>2.657190</td>\n",
       "      <td>-1.701983</td>\n",
       "      <td>1</td>\n",
       "    </tr>\n",
       "    <tr>\n",
       "      <th>92</th>\n",
       "      <td>0.681348</td>\n",
       "      <td>-1.426318</td>\n",
       "      <td>1</td>\n",
       "    </tr>\n",
       "    <tr>\n",
       "      <th>14</th>\n",
       "      <td>1.615121</td>\n",
       "      <td>0.756225</td>\n",
       "      <td>1</td>\n",
       "    </tr>\n",
       "    <tr>\n",
       "      <th>71</th>\n",
       "      <td>0.235865</td>\n",
       "      <td>-0.858988</td>\n",
       "      <td>1</td>\n",
       "    </tr>\n",
       "    <tr>\n",
       "      <th>60</th>\n",
       "      <td>0.792816</td>\n",
       "      <td>-0.790660</td>\n",
       "      <td>1</td>\n",
       "    </tr>\n",
       "    <tr>\n",
       "      <th>...</th>\n",
       "      <td>...</td>\n",
       "      <td>...</td>\n",
       "      <td>...</td>\n",
       "    </tr>\n",
       "    <tr>\n",
       "      <th>62</th>\n",
       "      <td>1.904227</td>\n",
       "      <td>-0.280908</td>\n",
       "      <td>1</td>\n",
       "    </tr>\n",
       "    <tr>\n",
       "      <th>68</th>\n",
       "      <td>-1.102456</td>\n",
       "      <td>-0.545489</td>\n",
       "      <td>1</td>\n",
       "    </tr>\n",
       "    <tr>\n",
       "      <th>21</th>\n",
       "      <td>1.041267</td>\n",
       "      <td>-0.833405</td>\n",
       "      <td>1</td>\n",
       "    </tr>\n",
       "    <tr>\n",
       "      <th>92</th>\n",
       "      <td>0.681348</td>\n",
       "      <td>-1.426318</td>\n",
       "      <td>1</td>\n",
       "    </tr>\n",
       "    <tr>\n",
       "      <th>66</th>\n",
       "      <td>1.265568</td>\n",
       "      <td>2.241864</td>\n",
       "      <td>1</td>\n",
       "    </tr>\n",
       "  </tbody>\n",
       "</table>\n",
       "<p>500 rows × 3 columns</p>\n",
       "</div>"
      ],
      "text/plain": [
       "    feature1  feature2  target\n",
       "51  2.657190 -1.701983       1\n",
       "92  0.681348 -1.426318       1\n",
       "14  1.615121  0.756225       1\n",
       "71  0.235865 -0.858988       1\n",
       "60  0.792816 -0.790660       1\n",
       "..       ...       ...     ...\n",
       "62  1.904227 -0.280908       1\n",
       "68 -1.102456 -0.545489       1\n",
       "21  1.041267 -0.833405       1\n",
       "92  0.681348 -1.426318       1\n",
       "66  1.265568  2.241864       1\n",
       "\n",
       "[500 rows x 3 columns]"
      ]
     },
     "execution_count": 102,
     "metadata": {},
     "output_type": "execute_result"
    }
   ],
   "source": [
    "df_resampled"
   ]
  },
  {
   "cell_type": "code",
   "execution_count": 103,
   "id": "5aad54a6-5843-4b1e-8811-4c7cadd8237d",
   "metadata": {},
   "outputs": [],
   "source": [
    "Balanced_data= pd.concat([df_resampled , firstclass])"
   ]
  },
  {
   "cell_type": "code",
   "execution_count": 104,
   "id": "8406ca6e-1a64-43eb-9498-89bec35bbd6a",
   "metadata": {},
   "outputs": [
    {
     "data": {
      "text/plain": [
       "(1000, 3)"
      ]
     },
     "execution_count": 104,
     "metadata": {},
     "output_type": "execute_result"
    }
   ],
   "source": [
    "Balanced_data.shape"
   ]
  },
  {
   "cell_type": "code",
   "execution_count": 105,
   "id": "dbb4047a-895c-4f5a-a32a-8755a0aec0de",
   "metadata": {},
   "outputs": [],
   "source": [
    "# now plot the grap using matplotlib in dot form"
   ]
  },
  {
   "cell_type": "code",
   "execution_count": 117,
   "id": "f155b65d-9a8e-4fcf-ab78-e56fb9715aa5",
   "metadata": {},
   "outputs": [
    {
     "data": {
      "text/plain": [
       "Text(0.5, 1.0, 'Graph Before Sampled')"
      ]
     },
     "execution_count": 117,
     "metadata": {},
     "output_type": "execute_result"
    },
    {
     "data": {
      "image/png": "[encoded data removed]",
      "text/plain": [
       "<Figure size 640x480 with 1 Axes>"
      ]
     },
     "metadata": {},
     "output_type": "display_data"
    }
   ],
   "source": [
    "plt.scatter(firstclass['feature1'] , firstclass['feature2'] , color=\"blue\")\n",
    "plt.scatter(secondclass['feature1'] , secondclass['feature2'] , color=\"red\")\n",
    "plt.title(\"Graph Before Sampled\")"
   ]
  },
  {
   "cell_type": "markdown",
   "id": "9d5c6635-9ff1-41a4-a331-8b0734ba1f63",
   "metadata": {},
   "source": [
    "# graph before resampled"
   ]
  },
  {
   "cell_type": "code",
   "execution_count": null,
   "id": "756f682f-9c56-43f5-b5c5-a9a7f465bd7b",
   "metadata": {},
   "outputs": [],
   "source": []
  },
  {
   "cell_type": "code",
   "execution_count": 120,
   "id": "b18d0f1b-f8e7-40d1-849d-37be0fb4983b",
   "metadata": {},
   "outputs": [
    {
     "data": {
      "text/plain": [
       "Text(0.5, 1.0, 'Graph After resampled')"
      ]
     },
     "execution_count": 120,
     "metadata": {},
     "output_type": "execute_result"
    },
    {
     "data": {
      "image/png": "[encoded data removed]",
      "text/plain": [
       "<Figure size 640x480 with 1 Axes>"
      ]
     },
     "metadata": {},
     "output_type": "display_data"
    }
   ],
   "source": [
    "plt.scatter(firstclass['feature1'] , firstclass['feature2'] ,color='blue')\n",
    "plt.scatter(df_resampled['feature1'] ,df_resampled['feature2'] ,color='red')\n",
    "plt.title(\"Graph After resampled\")"
   ]
  },
  {
   "cell_type": "code",
   "execution_count": 128,
   "id": "ddcdac72-ff60-4795-a6f0-7504d8a54433",
   "metadata": {},
   "outputs": [
    {
     "data": {
      "text/plain": [
       "(500, 3)"
      ]
     },
     "execution_count": 128,
     "metadata": {},
     "output_type": "execute_result"
    },
    {
     "data": {
      "image/png": "[encoded data removed]",
      "text/plain": [
       "<Figure size 640x480 with 1 Axes>"
      ]
     },
     "metadata": {},
     "output_type": "display_data"
    }
   ],
   "source": [
    "\n",
    "plt.scatter(df_resampled['feature1'] ,df_resampled['feature2'] ,color='red')\n",
    "df_resampled.shape"
   ]
  },
  {
   "cell_type": "code",
   "execution_count": 127,
   "id": "f1c4d500-7a97-4257-9959-eb864a96ff72",
   "metadata": {},
   "outputs": [
    {
     "data": {
      "text/plain": [
       "(500, 3)"
      ]
     },
     "execution_count": 127,
     "metadata": {},
     "output_type": "execute_result"
    },
    {
     "data": {
      "image/png": "[encoded data removed]",
      "text/plain": [
       "<Figure size 640x480 with 1 Axes>"
      ]
     },
     "metadata": {},
     "output_type": "display_data"
    }
   ],
   "source": [
    "plt.scatter(firstclass['feature1'] , firstclass['feature2'] ,color='blue')\n",
    "firstclass.shape"
   ]
  },
  {
   "cell_type": "code",
   "execution_count": 129,
   "id": "e90543f3-39d1-47fe-bdc7-94efc089e92b",
   "metadata": {},
   "outputs": [],
   "source": [
    "# above datasampling is used given by Upsampling "
   ]
  },
  {
   "cell_type": "code",
   "execution_count": null,
   "id": "d5081fbf-68e2-44dd-b050-726e475d9a29",
   "metadata": {},
   "outputs": [],
   "source": []
  },
  {
   "cell_type": "code",
   "execution_count": null,
   "id": "0e7dc9cc-c5dc-432b-98b5-fe35da0d1db1",
   "metadata": {},
   "outputs": [],
   "source": []
  },
  {
   "cell_type": "markdown",
   "id": "87357869-ceca-4d06-a21b-7359dd498b9f",
   "metadata": {},
   "source": [
    "Now we used different method in which we will attach two points and then calculate no. bewteen it and then resampled it "
   ]
  },
  {
   "cell_type": "markdown",
   "id": "06990c94-c0ae-4873-a738-6bf0ee2e2023",
   "metadata": {},
   "source": [
    "# for that we use SMOTE"
   ]
  },
  {
   "cell_type": "code",
   "execution_count": 131,
   "id": "158f3977-c2fd-4421-bbca-79e62f5b5f8a",
   "metadata": {},
   "outputs": [],
   "source": [
    "# we use imblearn library of sklearn"
   ]
  },
  {
   "cell_type": "code",
   "execution_count": 132,
   "id": "ba7462f7-1317-45df-9c85-6bcc1079816b",
   "metadata": {},
   "outputs": [
    {
     "name": "stdout",
     "output_type": "stream",
     "text": [
      "Collecting imblearn\n",
      "  Downloading imblearn-0.0-py2.py3-none-any.whl.metadata (355 bytes)\n",
      "Collecting imbalanced-learn (from imblearn)\n",
      "  Downloading imbalanced_learn-0.12.4-py3-none-any.whl.metadata (8.3 kB)\n",
      "Requirement already satisfied: numpy>=1.17.3 in c:\\users\\acer\\appdata\\local\\programs\\python\\python39\\lib\\site-packages (from imbalanced-learn->imblearn) (1.26.4)\n",
      "Requirement already satisfied: scipy>=1.5.0 in c:\\users\\acer\\appdata\\local\\programs\\python\\python39\\lib\\site-packages (from imbalanced-learn->imblearn) (1.13.1)\n",
      "Requirement already satisfied: scikit-learn>=1.0.2 in c:\\users\\acer\\appdata\\local\\programs\\python\\python39\\lib\\site-packages (from imbalanced-learn->imblearn) (1.6.1)\n",
      "Requirement already satisfied: joblib>=1.1.1 in c:\\users\\acer\\appdata\\local\\programs\\python\\python39\\lib\\site-packages (from imbalanced-learn->imblearn) (1.4.2)\n",
      "Requirement already satisfied: threadpoolctl>=2.0.0 in c:\\users\\acer\\appdata\\local\\programs\\python\\python39\\lib\\site-packages (from imbalanced-learn->imblearn) (3.5.0)\n",
      "Downloading imblearn-0.0-py2.py3-none-any.whl (1.9 kB)\n",
      "Downloading imbalanced_learn-0.12.4-py3-none-any.whl (258 kB)\n",
      "Installing collected packages: imbalanced-learn, imblearn\n",
      "Successfully installed imbalanced-learn-0.12.4 imblearn-0.0\n",
      "Note: you may need to restart the kernel to use updated packages.\n"
     ]
    },
    {
     "name": "stderr",
     "output_type": "stream",
     "text": [
      "\n",
      "[notice] A new release of pip is available: 24.2 -> 25.0.1\n",
      "[notice] To update, run: python.exe -m pip install --upgrade pip\n"
     ]
    }
   ],
   "source": [
    "pip install imblearn"
   ]
  },
  {
   "cell_type": "code",
   "execution_count": 141,
   "id": "afa5608b-020d-4604-9ee5-a961d22b6da4",
   "metadata": {},
   "outputs": [],
   "source": [
    "from imblearn.over_sampling import SMOTE"
   ]
  },
  {
   "cell_type": "code",
   "execution_count": 142,
   "id": "bc064d53-fbf3-4c89-9d41-e609223fd9a2",
   "metadata": {},
   "outputs": [
    {
     "name": "stderr",
     "output_type": "stream",
     "text": [
      "C:\\Users\\Acer\\AppData\\Local\\Programs\\Python\\Python39\\lib\\site-packages\\sklearn\\base.py:474: FutureWarning: `BaseEstimator._validate_data` is deprecated in 1.6 and will be removed in 1.7. Use `sklearn.utils.validation.validate_data` instead. This function becomes public and is part of the scikit-learn developer API.\n",
      "  warnings.warn(\n"
     ]
    }
   ],
   "source": [
    "Oversample=SMOTE()\n",
    "x,y=Oversample.fit_resample(df[['feature1','feature2']] , df['target']) "
   ]
  },
  {
   "cell_type": "code",
   "execution_count": null,
   "id": "d3bc08b2-878b-415c-8728-3dcb986eb099",
   "metadata": {},
   "outputs": [],
   "source": []
  }
 ],
 "metadata": {
  "kernelspec": {
   "display_name": "Python 3 (ipykernel)",
   "language": "python",
   "name": "python3"
  },
  "language_info": {
   "codemirror_mode": {
    "name": "ipython",
    "version": 3
   },
   "file_extension": ".py",
   "mimetype": "text/x-python",
   "name": "python",
   "nbconvert_exporter": "python",
   "pygments_lexer": "ipython3",
   "version": "3.9.0"
  }
 },
 "nbformat": 4,
 "nbformat_minor": 5
}
